{
  "nbformat": 4,
  "nbformat_minor": 0,
  "metadata": {
    "colab": {
      "name": "Tao_Bien.ipynb",
      "provenance": [],
      "collapsed_sections": [],
      "toc_visible": true
    },
    "kernelspec": {
      "name": "python3",
      "display_name": "Python 3"
    },
    "language_info": {
      "name": "python"
    }
  },
  "cells": [
    {
      "cell_type": "markdown",
      "metadata": {
        "id": "tKovTgoEuMQ0"
      },
      "source": [
        "# NHÓM 2 : BÀI TẢO BIỂN"
      ]
    },
    {
      "cell_type": "markdown",
      "metadata": {
        "id": "7Sm3N7JLutio"
      },
      "source": [
        "# ĐỀ BÀI :"
      ]
    },
    {
      "cell_type": "markdown",
      "metadata": {
        "id": "kZWGZ-NSvUU1"
      },
      "source": [
        "Tảo biển sinh sản rất nhanh khi có môi trường thuận lợi với chúng và có những loài còn tiết ra môi trường những chất độc hại. Một loại tảo nâu trong môi trường nước bị ô nhiễm nặng sinh sản theo quy luật sau:\n",
        "\n",
        "*   Ngày đầu tiên (ngày 0) có n cá thể ở mức 1\n",
        "*   Ở mỗi ngày tiếp theo, mỗi cá thể mức i sinh ra i cá thể mức 1, các cá thể mới sinh sẽ sinh sôi, phát triển từ ngày hôm sau.\n",
        "*   Bản thân các cá thể mức i phát triển thành mức i+1 và chu kỳ phát triển trong ngày chấm dứt.\n",
        "\n",
        "Hãy xác định sau k ngày trong nước biển có bao nhiêu cá thể.\n",
        "\n",
        "**Dữ liệu**: Vào từ thiết bị nhập chuẩn gồm một dòng chứa 2 số nguyên n và k $(1 ≤ n ≤ 1000, 1 ≤ k ≤ 10^{18})$\n",
        "\n",
        "**Kết quả**: Đưa ra thiết bị xuất chuẩn một số nguyên – số lượng cá thể tảo theo mô đun $10^9+7$."
      ]
    },
    {
      "cell_type": "markdown",
      "metadata": {
        "id": "LpC9xU0VwNv_"
      },
      "source": [
        "# 1. ABSTRACTION"
      ]
    },
    {
      "cell_type": "markdown",
      "metadata": {
        "id": "6bC46MkKwYvO"
      },
      "source": [
        "**Input :** 2 số nguyên n và k $(1 ≤ n ≤ 1000, 1 ≤ k ≤ 10^{18})$\n",
        "\n",
        "**Dữ liệu :** Với n = 1, quan sát tổng số T tương ứng với k\n",
        "\n",
        "*   k = 0, T = 1\n",
        "*   k = 1, T = 2\n",
        "*   k = 2, T = 5\n",
        "*   k = 3, T = 13\n",
        "*   ...\n",
        "\n",
        "So sánh với dãy Fibonacci F(n) = 0, 1, 1, 2, 3, 5, 8, 13,..., n\n",
        "\n",
        "Ta thấy : T(k) = F(2k + 1)\n",
        "\n",
        "**Output :** Tính T(k)*n"
      ]
    },
    {
      "cell_type": "markdown",
      "metadata": {
        "id": "42x0W34h0aOh"
      },
      "source": [
        "# 2. PATTERN RECOGNITION"
      ]
    },
    {
      "cell_type": "markdown",
      "metadata": {
        "id": "tQn6zMY70q0h"
      },
      "source": [
        "Bài toán tính số thứ n trong dãy Fibonacci"
      ]
    },
    {
      "cell_type": "markdown",
      "metadata": {
        "id": "4LGqFMx005Ca"
      },
      "source": [
        "# 3. ALGORITHM DESIGNED"
      ]
    },
    {
      "cell_type": "markdown",
      "metadata": {
        "id": "0PDdnyAI3Kzh"
      },
      "source": [
        "Dãy Fibonacci được định nghĩa như sau:\n",
        "\n",
        "\n",
        "![image.png](data:image/png;base64,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)\n",
        "\n"
      ]
    },
    {
      "cell_type": "markdown",
      "metadata": {
        "id": "miSamO3K3IJG"
      },
      "source": [
        "# 3.1. Sử dụng phương pháp đệ quy"
      ]
    },
    {
      "cell_type": "markdown",
      "metadata": {
        "id": "4OPgCxmi7FKU"
      },
      "source": [
        "Dựa trên định nghĩa của dãy Fibonacci, có thể sử dụng phương pháp đệ quy để giải quyết bài toán như sau :\n",
        "```\n",
        "  Procedure: F(n)\n",
        "    if n == 0 then return 0\n",
        "    else if n == 1 then return 1\n",
        "    else return F(n-1) + F(n-2)\n",
        "\n",
        "```\n",
        "\n"
      ]
    },
    {
      "cell_type": "markdown",
      "metadata": {
        "id": "FYBYe4Ge9nIm"
      },
      "source": [
        "# 3.2. Sử dụng vòng lặp"
      ]
    },
    {
      "cell_type": "markdown",
      "metadata": {
        "id": "2RckfNg99we8"
      },
      "source": [
        "\n",
        "```\n",
        "Procedure: F(n)\n",
        "    if n == 0 then return 0\n",
        "    else\n",
        "        declare a = 0\n",
        "        declare b = 1\n",
        "        declare temp\n",
        "        declare i = 2\n",
        "        while i <= n : \n",
        "              temp = a + b\n",
        "              a = b\n",
        "              b = temp\n",
        "              i = i + 1\n",
        "        return b\n",
        "```\n",
        "\n"
      ]
    },
    {
      "cell_type": "markdown",
      "metadata": {
        "id": "Gh02QTzVDKNI"
      },
      "source": [
        "# 3.3. Sử dụng phương pháp luỹ thừa ma trận"
      ]
    },
    {
      "cell_type": "markdown",
      "metadata": {
        "id": "T6LhtyzuEQWM"
      },
      "source": [
        "Dựa trên thực tế, ta thấy khi ta luỹ thừa n lần ma trận M = $[[1,1],[1,0]]$, ta sẽ nhận được số Fibonacci như sau :\n",
        "\n",
        "![image.png](data:image/png;base64,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)  "
      ]
    },
    {
      "cell_type": "markdown",
      "metadata": {
        "id": "rxzRWnsKGGD7"
      },
      "source": [
        "Do đó, ta có thể sử dụng ma trận để giải quyết bài toán.\n",
        "\n",
        "```\n",
        "Procedure : Fibonacci(n)\n",
        "    declare F = [[1,1],[1,0]]\n",
        "    if n == 0 then return 0\n",
        "    Power (F, n-1)\n",
        "    return F[0][0]\n",
        "```\n",
        "```\n",
        "Procedure : Power(F, n)\n",
        "    declare i = 2\n",
        "    delare M = [[1,1],[1,0]]\n",
        "    while i <= n\n",
        "        Multiply (F, M)\n",
        "        i = i + 1 \n",
        "```\n",
        "```\n",
        "Procedure : Multiply (F, M)\n",
        "    declare x = F[0][0] * M[0][0] + \n",
        "                F[0][1] * M[1][0]\n",
        "    declare y = F[0][0] * M[0][1] + \n",
        "                F[0][1] * M[1][1]\n",
        "    declare z = F[1][0] * M[0][0] + \n",
        "                F[1][1] * M[1][0]\n",
        "    declare w = F[1][0] * M[0][1] + \n",
        "                F[1][1] * M[1][1]\n",
        "     \n",
        "    F[0][0] = x\n",
        "    F[0][1] = y\n",
        "    F[1][0] = z\n",
        "    F[1][1] = w\n",
        "```\n",
        "\n",
        "\n",
        "\n"
      ]
    },
    {
      "cell_type": "markdown",
      "metadata": {
        "id": "xyJyvk3vKJiI"
      },
      "source": [
        "# 4. ĐÁNH GIÁ ĐỘ PHỨC TẠP"
      ]
    },
    {
      "cell_type": "markdown",
      "metadata": {
        "id": "FpQj6a6tKQ0O"
      },
      "source": [
        "# 5. PROGRAMMING"
      ]
    },
    {
      "cell_type": "markdown",
      "metadata": {
        "id": "y2Jc8E8cKXbA"
      },
      "source": [
        "# 5.1. Đệ quy"
      ]
    },
    {
      "cell_type": "code",
      "metadata": {
        "id": "nKzclGyYMg8Q"
      },
      "source": [
        "def De_quy(n):\n",
        "  if n == 0: \n",
        "    return 0\n",
        "  elif n == 1:\n",
        "    return 1\n",
        "  else :\n",
        "    return De_quy(n-1) + De_quy(n-2)\n"
      ],
      "execution_count": null,
      "outputs": []
    },
    {
      "cell_type": "markdown",
      "metadata": {
        "id": "GuuIUweGKlF_"
      },
      "source": [
        "# 5.2. Vòng lặp"
      ]
    },
    {
      "cell_type": "code",
      "metadata": {
        "id": "ST14p9LQNX_G"
      },
      "source": [
        "def Vong_lap(n):\n",
        "  if n == 0: \n",
        "    return 0\n",
        "  a = 0\n",
        "  b = 1\n",
        "  i = 2\n",
        "  while i <= n: \n",
        "    temp = a + b\n",
        "    a = b\n",
        "    b = temp\n",
        "    i = i + 1\n",
        "  return b\n"
      ],
      "execution_count": null,
      "outputs": []
    },
    {
      "cell_type": "markdown",
      "metadata": {
        "id": "IllxEfZJKqS2"
      },
      "source": [
        "# 5.3. Ma trận"
      ]
    },
    {
      "cell_type": "code",
      "metadata": {
        "id": "iBWfCUPjOwte"
      },
      "source": [
        "def Mul(F, M):\n",
        "  x = F[0][0] * M[0][0] + F[0][1] * M[1][0]\n",
        "  y = F[0][0] * M[0][1] + F[0][1] * M[1][1]\n",
        "  z = F[1][0] * M[0][0] + F[1][1] * M[1][0]\n",
        "  w = F[1][0] * M[0][1] + F[1][1] * M[1][1]\n",
        "  F[0][0] = x\n",
        "  F[0][1] = y\n",
        "  F[1][0] = z\n",
        "  F[1][1] = w"
      ],
      "execution_count": null,
      "outputs": []
    },
    {
      "cell_type": "code",
      "metadata": {
        "id": "g_4l6_TdPHmw"
      },
      "source": [
        "def Pow(F,n):\n",
        "  i = 2\n",
        "  M = [[1,1],[1,0]]\n",
        "  while i <= n:\n",
        "    Mul(F, M)\n",
        "    i = i + 1 "
      ],
      "execution_count": null,
      "outputs": []
    },
    {
      "cell_type": "code",
      "metadata": {
        "id": "2FO5lG4XOJ0v"
      },
      "source": [
        "def Ma_tran(n):\n",
        "  if n==0:\n",
        "    return 0\n",
        "  F = [[1,1],[1,0]]\n",
        "  Pow(F, n-1)\n",
        "  return F[0][0]\n"
      ],
      "execution_count": null,
      "outputs": []
    }
  ]
}