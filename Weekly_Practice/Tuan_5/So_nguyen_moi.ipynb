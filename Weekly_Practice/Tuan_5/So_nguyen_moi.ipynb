{
  "nbformat": 4,
  "nbformat_minor": 0,
  "metadata": {
    "colab": {
      "name": "So_nguyen_moi.ipynb",
      "provenance": [],
      "collapsed_sections": [],
      "authorship_tag": "ABX9TyONBKCKP07D239cZ4Z14M9O",
      "include_colab_link": true
    },
    "kernelspec": {
      "name": "python3",
      "display_name": "Python 3"
    },
    "language_info": {
      "name": "python"
    }
  },
  "cells": [
    {
      "cell_type": "markdown",
      "metadata": {
        "id": "view-in-github",
        "colab_type": "text"
      },
      "source": [
        "<a href=\"https://colab.research.google.com/github/CS112-L21-KHTN-N2/Weekly_Practice/blob/main/Tuan_5/So_nguyen_moi.ipynb\" target=\"_parent\"><img src=\"https://colab.research.google.com/assets/colab-badge.svg\" alt=\"Open In Colab\"/></a>"
      ]
    },
    {
      "cell_type": "markdown",
      "metadata": {
        "id": "5bLlxtNgpr_Z"
      },
      "source": [
        "#Số nguyên mới"
      ]
    },
    {
      "cell_type": "markdown",
      "metadata": {
        "id": "RqL7gUzepwbk"
      },
      "source": [
        "#1.Problem"
      ]
    },
    {
      "cell_type": "markdown",
      "metadata": {
        "id": "3Ff4lm5TpyxA"
      },
      "source": [
        "Cho số nguyên dương ***n*** có không quá 100 chữ số. Hãy xác định số nguyên lớn nhất ***m*** chia hết cho 3 và khác ***n*** ở đúng một chữ số.\n",
        "\n",
        "Ví dụ, ***n*** = 123 thì ***m*** sẽ là 723.\n",
        "\n",
        "Dữ liệu: Vào từ thiết bị nhập chuẩn gồm một dòng chứa số nguyên ***n*** có không quá 100 chữ số và không chứa các số 0 không có nghĩa.\n",
        "\n",
        "Kết quả: Đưa ra thiết bị xuất chuẩn số nguyên ***m*** tìm được.\n",
        "\n",
        "Ví dụ:\n",
        "\n",
        "INPUT\n",
        "```\n",
        "123\n",
        "```\n",
        "\n",
        "OUTPUT\n",
        "```\n",
        "723\n",
        "```"
      ]
    },
    {
      "cell_type": "markdown",
      "metadata": {
        "id": "ySfARf-bsR5l"
      },
      "source": [
        "#2.Abstraction"
      ]
    },
    {
      "cell_type": "markdown",
      "metadata": {
        "id": "xCfcPOu1s5ZS"
      },
      "source": [
        "Tìm số lớn nhất chia hết cho 3 và khác số ban đầu 1 chữ số."
      ]
    },
    {
      "cell_type": "markdown",
      "metadata": {
        "id": "sXOGNbv9kK3N"
      },
      "source": [
        "#3.Algorithm Design"
      ]
    },
    {
      "cell_type": "markdown",
      "metadata": {
        "id": "PAN7jqe5kSC2"
      },
      "source": [
        "Trường hợp để input dạng chuỗi:\n",
        "1. Cộng tất cả các số lại.\n",
        "2. Lấy tổng trên chia dư cho 3:\n",
        "- = 0: cần cộng thêm 3 (hoặc trừ đi 3 nếu số ban đầu lớn nhất).\n",
        "- = 1: cần cộng thêm 2 (hoặc trừ đi 1 nếu số ban đầu lớn nhất).\n",
        "- = 2: cần cộng thêm 1 (hoặc trừ đi 2 nếu số ban đầu lớn nhất).\n",
        "3. Duyệt từ chữ số đầu tiên đến cuối, nếu như số đó cộng cho số trên bé hơn 9 thì lấy và tiếp tục cộng thêm 3 cho đến khi không cộng được nữa, nếu như không có số nào thỏa thì trừ số hàng đơn vị như trên.\n",
        "\n",
        "vd: \n",
        "988 chia 3 dư 1, nếu cộng thêm 2 để thành số chia hết cho 3 thì không có chữ số nào thuộc số trên thỏa nên phải trừ 1 ở chữ số hàng đơn vị là 8 -> ta có số 987\n"
      ]
    },
    {
      "cell_type": "markdown",
      "metadata": {
        "id": "lsI1iAhNvozX"
      },
      "source": [
        "#4.Coding"
      ]
    },
    {
      "cell_type": "code",
      "metadata": {
        "colab": {
          "base_uri": "https://localhost:8080/"
        },
        "id": "sysAUgBLkCkZ",
        "outputId": "e106db05-438f-4dc1-a2ac-ebdcccc14416"
      },
      "source": [
        "old_num = input()\n",
        "#1\n",
        "sum = 0\n",
        "for num in old_num:\n",
        "  sum += int(num)\n",
        "#2 + #3\n",
        "add = 3 - sum % 3\n",
        "sub = sum % 3 \n",
        "\n",
        "if sub == 0: sub = 3\n",
        "\n",
        "mark = 0\n",
        "need_sub = True\n",
        "temp = 0\n",
        "for num in range(len(old_num)):\n",
        "  temp = int(old_num[num])\n",
        "  if (temp + add <= 9):\n",
        "    temp += add\n",
        "    need_sub = False\n",
        "    while (True):\n",
        "      temp += 3\n",
        "      if (temp > 9):\n",
        "        temp -= 3\n",
        "        break     \n",
        "    mark = num\n",
        "    break\n",
        "\n",
        "\n",
        "if (need_sub == False):\n",
        "  new_num = old_num[: mark] + str(temp) + old_num[mark + 1:]\n",
        "else:\n",
        "  new_num = old_num[: len(old_num) - 1] + str(temp - sub)\n",
        "\n",
        "print(int(new_num))\n"
      ],
      "execution_count": 42,
      "outputs": [
        {
          "output_type": "stream",
          "text": [
            "988\n",
            "987\n"
          ],
          "name": "stdout"
        }
      ]
    }
  ]
}