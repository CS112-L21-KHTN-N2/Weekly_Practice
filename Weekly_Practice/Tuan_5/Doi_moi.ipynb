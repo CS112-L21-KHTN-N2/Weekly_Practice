{
  "nbformat": 4,
  "nbformat_minor": 0,
  "metadata": {
    "colab": {
      "name": "Doi_moi.ipynb",
      "provenance": [],
      "collapsed_sections": [],
      "toc_visible": true,
      "authorship_tag": "ABX9TyM8MaOIDSWdx/RUs6NwwQ9b",
      "include_colab_link": true
    },
    "kernelspec": {
      "name": "python3",
      "display_name": "Python 3"
    },
    "language_info": {
      "name": "python"
    }
  },
  "cells": [
    {
      "cell_type": "markdown",
      "metadata": {
        "id": "view-in-github",
        "colab_type": "text"
      },
      "source": [
        "<a href=\"https://colab.research.google.com/github/CS112-L21-KHTN-N2/Weekly_Practice/blob/main/Tuan_5/Doi_moi.ipynb\" target=\"_parent\"><img src=\"https://colab.research.google.com/assets/colab-badge.svg\" alt=\"Open In Colab\"/></a>"
      ]
    },
    {
      "cell_type": "markdown",
      "metadata": {
        "id": "gI3OruqL_huf"
      },
      "source": [
        "#Đổi mới"
      ]
    },
    {
      "cell_type": "markdown",
      "metadata": {
        "id": "R8ugvWFk_n2J"
      },
      "source": [
        "#1.Problem"
      ]
    },
    {
      "cell_type": "markdown",
      "metadata": {
        "id": "-i-StnOU_vDr"
      },
      "source": [
        "Thành phố quyết định chặt hạ hết ***n*** cây xanh hiện có trong thành phố để trồng chỉ một loại cây mới. Nhiệm vụ được giao cho Công ty Cây xanh thành phố. Do hạn chế về thiết bị Công ty chỉ tổ chức được 2 đội đốn hạ cây. Đội I hạ được ***a*** cây mỗi ngày, nhưng cứ mối ngày thứ ***k*** thì phải nghỉ để bảo dưỡng kỹ thuật, tức là đội I sẽ nghỉ vào các ngày ***k***, 2***k***, 3***k***, . . . Đội II hạ được ***b*** cây mỗi ngày, nhưng cứ mỗi ngày thứ ***m*** thì phải nghỉ để bảo dưỡng kỹ thuật, tức là đội II sẽ nghỉ vào các ngày ***m***, 2***m***, 3***m***, . . . Ở ngày nghỉ, số cây chặt hạ của đội sẽ là 0. Cả hai đội bắt đầu công việc vào cùng một ngày và làm việc song song với nhau.\n",
        "\n",
        "Công việc trồng cây mới sẽ bắt đầu sau khi toàn bộ cây cũ đã bị đốn hạ.\n",
        "\n",
        "Hãy xác định sau bao nhiêu ngày thì có thể bắt đầu việc trồng mới cây.\n",
        "\n",
        "***Dữ liệu:*** Vào từ thiết bị nhập chuẩn gồm một dòng chứa 5 số nguyên ***a***, ***k***, ***b***, ***m*** và ***n*** (1 ≤ ***a***, ***b*** ≤ $10^9$, 2 ≤ ***k***, ***m*** ≤ $10^{18}$, 1 ≤ ***n*** ≤ $10^{18}$).\n",
        "\n",
        "***Kết quả:*** Đưa ra thiết bị xuất chuẩn một số nguyên – số ngày tính được.\n",
        "\n",
        "***Ví dụ:***\n",
        "\n",
        "INPUT\n",
        "```\n",
        "2 4 3 3 25\n",
        "```\n",
        "OUTPUT\n",
        "```\n",
        "7\n",
        "```"
      ]
    },
    {
      "cell_type": "markdown",
      "metadata": {
        "id": "g5Hrx5htN-1R"
      },
      "source": [
        "#2.Abtraction"
      ]
    },
    {
      "cell_type": "markdown",
      "metadata": {
        "id": "ZyAyyZXgOCi9"
      },
      "source": [
        "Ta có: Số cây đội I chặt được trong x ngày: day * a - (day div k) * a (1), Số cây đội II chặt được trong x ngày: day * b - (day div m) * b (2) => n = (1) + (2) => Bài toán: Tìm *day* thỏa n = (1) + (2)"
      ]
    },
    {
      "cell_type": "markdown",
      "metadata": {
        "id": "rH3xMWIERD0T"
      },
      "source": [
        "#3.Pattern Recognition"
      ]
    },
    {
      "cell_type": "markdown",
      "metadata": {
        "id": "eltysdKjRJJP"
      },
      "source": [
        "Cả 2 đội cùng làm việc nên ta sẽ có ngày đốn hạ cây nằm trong khoảng [1; n] -> Tìm kiếm x trong khoảng cho trước"
      ]
    },
    {
      "cell_type": "markdown",
      "metadata": {
        "id": "JMFVlsxNRa5R"
      },
      "source": [
        "#4.Algorithm Design"
      ]
    },
    {
      "cell_type": "markdown",
      "metadata": {
        "id": "azqgId7ERezd"
      },
      "source": [
        "##4.1.Vét cạn"
      ]
    },
    {
      "cell_type": "markdown",
      "metadata": {
        "id": "mpsZnHWBRkm_"
      },
      "source": [
        "Bước 1: Kiểm tra xem ngày hôm đó có phải ngày nghỉ của đội nào hay không?\n",
        "- TH1: Ngày nghỉ của 2 đội thì không có cây bị chặt\n",
        "- TH2: Ngày nghỉ của đội I thì số cây bị chặt = b\n",
        "- TH3: Ngày nghỉ của đội II thì số cây bị chặt = a\n",
        "- TH4: Không có đội nào nghỉ thì số cây bị chặt = a + b\n",
        "\n",
        "Bước 2: Kiểm tra đã đốn hết cây chưa, nếu rồi thì ngừng, nếu chưa thì tăng ngày lên 1 và quay lại bước 1.\n"
      ]
    },
    {
      "cell_type": "markdown",
      "metadata": {
        "id": "9uV5L3hyU1UE"
      },
      "source": [
        "##4.2.Chia để trị (Binary Search)"
      ]
    },
    {
      "cell_type": "markdown",
      "metadata": {
        "id": "WGpJrfhSU9KV"
      },
      "source": [
        "Bước 1: Đặt giới hạn trái l = 1, giới hạn phải r = n.\n",
        "\n",
        "Bước 2: Kiểm tra ngày giữa [l; r] (mid), nếu thỏa phương trình thì kết thúc, không thì qua bước 2.\n",
        "\n",
        "Bước 3: Nếu như thay mid vào, có 2 trường hợp:\n",
        "- TH1: Số cây bị chặt (down_tree) > n -> Số ngày để đốn hết cây ít hơn mid -> Thay r bằng mid - 1, day = mid, quay lại bước 2.\n",
        "- TH2: Số cây bị chặt (down_tree) < n -> Số ngày để đốn hết cây lớn hơn mid -> Thay l bằng mid - 1, quay lại bước 2."
      ]
    },
    {
      "cell_type": "markdown",
      "metadata": {
        "id": "_Thrj_n0Blw-"
      },
      "source": [
        "#5.Coding"
      ]
    },
    {
      "cell_type": "markdown",
      "metadata": {
        "id": "edXDfsvDshNQ"
      },
      "source": [
        "##5.1.Vét cạn"
      ]
    },
    {
      "cell_type": "code",
      "metadata": {
        "colab": {
          "base_uri": "https://localhost:8080/"
        },
        "id": "AZRmYLGNr5WD",
        "outputId": "eae780a1-408c-4c57-c953-150187245610"
      },
      "source": [
        "a, k, b, m, n = map(int, input().split())\n",
        "\n",
        "day = 0\n",
        "while (n > 0):\n",
        "  day = day + 1\n",
        "  if (day % k == 0 and day % m == 0):\n",
        "    continue\n",
        "  elif (day % k == 0):\n",
        "    n -= b\n",
        "  elif (day % m == 0):\n",
        "    n -= a\n",
        "  else:\n",
        "    n = n - a - b\n",
        "\n",
        "print(day)"
      ],
      "execution_count": null,
      "outputs": [
        {
          "output_type": "stream",
          "text": [
            "2 4 3 3 25\n",
            "7\n"
          ],
          "name": "stdout"
        }
      ]
    },
    {
      "cell_type": "markdown",
      "metadata": {
        "id": "H-nVc_plfvTC"
      },
      "source": [
        "Độ phức tạp: O(n)"
      ]
    },
    {
      "cell_type": "markdown",
      "metadata": {
        "id": "7M9f7-qyB3KM"
      },
      "source": [
        "##5.2.Chia để trị (Binary Search)"
      ]
    },
    {
      "cell_type": "code",
      "metadata": {
        "id": "ihderbSPDSKj",
        "colab": {
          "base_uri": "https://localhost:8080/"
        },
        "outputId": "73a5f2da-1bb1-47ad-d4aa-1a29df9547e9"
      },
      "source": [
        "a, k, b, m, n = map(int, input().split())\n",
        "\n",
        "l, r, day = 1, n, 0\n",
        "while (l <= r):\n",
        "    mid = (l + r) // 2\n",
        "    down_tree = mid * a - (mid // k) * a + mid * b - (mid // m) * b\n",
        "    if (down_tree >= n):\n",
        "        r = mid - 1\n",
        "        day = mid\n",
        "    else:\n",
        "        l = mid + 1\n",
        "\n",
        "print(day)"
      ],
      "execution_count": null,
      "outputs": [
        {
          "output_type": "stream",
          "text": [
            "2 4 3 3 25\n",
            "7\n"
          ],
          "name": "stdout"
        }
      ]
    },
    {
      "cell_type": "markdown",
      "metadata": {
        "id": "WLgNEm1Sf5PA"
      },
      "source": [
        "Độ phức tạp: O(logn)"
      ]
    }
  ]
}