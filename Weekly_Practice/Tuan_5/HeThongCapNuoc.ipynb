{
  "nbformat": 4,
  "nbformat_minor": 0,
  "metadata": {
    "colab": {
      "name": "HeThongCapNuoc.ipynb",
      "provenance": [],
      "collapsed_sections": [],
      "toc_visible": true,
      "authorship_tag": "ABX9TyMXpph5aS2aszON0ag/ZFdn",
      "include_colab_link": true
    },
    "kernelspec": {
      "name": "python3",
      "display_name": "Python 3"
    },
    "language_info": {
      "name": "python"
    }
  },
  "cells": [
    {
      "cell_type": "markdown",
      "metadata": {
        "id": "view-in-github",
        "colab_type": "text"
      },
      "source": [
        "<a href=\"https://colab.research.google.com/github/CS112-L21-KHTN-N2/Weekly_Practice/blob/main/Tuan_5/HeThongCapNuoc.ipynb\" target=\"_parent\"><img src=\"https://colab.research.google.com/assets/colab-badge.svg\" alt=\"Open In Colab\"/></a>"
      ]
    },
    {
      "cell_type": "markdown",
      "metadata": {
        "id": "oyP-ZgrlzKHd"
      },
      "source": [
        "# **NHÓM 2 : BÀI HỆ THỐNG CẤP NƯỚC**"
      ]
    },
    {
      "cell_type": "markdown",
      "metadata": {
        "id": "0C2VdaU-zb70"
      },
      "source": [
        "# **ĐỀ BÀI**"
      ]
    },
    {
      "cell_type": "markdown",
      "metadata": {
        "id": "4JFb2yKCzi3q"
      },
      "source": [
        "Vùng đất diệu kỳ Wonderland có N hộ gia đình đã được trang bị một hệ thống cung cấp nước sạch đến từng ngôi nhà. Mỗi đường ống nối trực tiếp 2 nhà, nước chảy trong đường ống theo 2 chiều, có thể truyền qua nhiều trung gian trước khi đến một nhà nào đó. Trong hồ sơ lưu trữ, các ngôi nhà được ghi số từ 1 đến N.\n",
        "\n",
        "Một trận động đất đã gây nên sự cố nghiêm trọng làm cho cả vùng bị chia cắt thành nhiều khu vực rời nhau, không còn tiếp cận được với nguồn nước. Để khắc phục, những người có trách nhiệm đã khảo sát hiện trạng và ghi nhận được toàn vùng đất đang thảm họa vẫn còn M đường ống đang hoạt động tốt.\n",
        "\n",
        "Nhiệm vụ đặt ra là phải khôi phục hệ thống cấp nước bằng cách lắp thêm một số đường ống. Tuy nhiên, do hạn chế về thời gian và kinh phí nên đòi hỏi phương án khôi phục phải được thực hiện với ít đường ống được lắp thêm nhất. Câu hỏi đặt ra: cần lắp thêm ít nhất bao nhiêu đường ống để hệ thống cấp nước có thể đưa nước đến từng ngôi nhà. Câu hỏi phụ: có bao nhiêu phương án khác nhau đáp ứng yêu cầu; số phương án có thể khá lớn nên chỉ cần đưa ra số dư khi chia cho 10^9+7.\n",
        "\n",
        "*Dữ liệu:* Vào từ thiết bị nhập chuẩn:\n",
        "*   Dòng đầu tiên chứa 2 số nguyên N, M (1 ≤ N, M  ≤ 10^5)\n",
        "*   Mỗi dòng trong M dòng tiếp theo chứa 2 số nguyên a, b (1 ≤ a,  b ≤ N). cho biết vẫn còn đường ống nối nhà a với nhà b\n",
        "\n",
        "*Kết quả:* Đưa ra thiết bị xuất chuẩn số đường ống cần được lắp thêm và số phương án đáp ứng yêu cầu (theo mô đun 109+7) mỗi số trên một dòng."
      ]
    },
    {
      "cell_type": "markdown",
      "metadata": {
        "id": "Fp0hbWMV0DRJ"
      },
      "source": [
        "# **1. ABSTRACTION**"
      ]
    },
    {
      "cell_type": "markdown",
      "metadata": {
        "id": "U3_vsnA00Nr_"
      },
      "source": [
        "Cho N đỉnh và M cạnh đã có, tìm số cạnh ít nhất còn lại để đồ thị có đủ N đỉnh  và số cách có thể tạo thành."
      ]
    },
    {
      "cell_type": "markdown",
      "metadata": {
        "id": "-glUQ9fe0owm"
      },
      "source": [
        "# **2. PATTERN RECOGNITION**"
      ]
    },
    {
      "cell_type": "markdown",
      "metadata": {
        "id": "eTYDlk9e0xt0"
      },
      "source": [
        "Bài toán kết nối đồ thị"
      ]
    },
    {
      "cell_type": "markdown",
      "metadata": {
        "id": "fh05bmLp031J"
      },
      "source": [
        "# **3. ALGORITHM DESIGNED**"
      ]
    },
    {
      "cell_type": "markdown",
      "metadata": {
        "id": "ooqYcKRS1CJ7"
      },
      "source": [
        "Ta có thể xem các đoạn nối liền nhau là một khối. Như vậy:\n",
        "*   Số cạnh cần tìm = số khối - 1\n",
        "*   Số cách = tích số đỉnh mỗi khối * N^(số khối - 2)\n",
        "\n"
      ]
    },
    {
      "cell_type": "markdown",
      "metadata": {
        "id": "GhOgfgm0f2Ve"
      },
      "source": [
        "\n",
        "\n",
        "```\n",
        "Declare block = [] #mảng chứa số đỉnh ở mỗi khối\n",
        "Declare cn = [i for i in range(N)] #mảng chứa đỉnh gốc của mỗi đỉnh\n",
        "Declare count = [1 for i in range(N)] #mảng đếm số đỉnh của mỗi khối\n",
        "Declare edge = 0 #số cạnh cần tìm\n",
        "Declare way = 1 #số cách\n",
        "```\n",
        "\n"
      ]
    },
    {
      "cell_type": "markdown",
      "metadata": {
        "id": "0TJRsYVjiSAD"
      },
      "source": [
        "Procedure : root(u)\n",
        "```\n",
        "Declare v = u\n",
        "if u!=cn[u] then u = cn[u]\n",
        "cn[v] = u\n",
        "return u\n",
        "```\n",
        "\n"
      ]
    },
    {
      "cell_type": "markdown",
      "metadata": {
        "id": "atw8SCfBjqSE"
      },
      "source": [
        "Procedure: connect(u, v)\n",
        "\n",
        "```\n",
        "u = root(u)\n",
        "v = root(v)\n",
        "if u != v then \n",
        "  if count[u] > count[v] then\n",
        "    cn[v] = u\n",
        "    count[u] = count[u] + count[v]\n",
        "  else \n",
        "    cn[u] = v\n",
        "    count[v] = count[v] + count[u]\n",
        "```\n",
        "\n"
      ]
    },
    {
      "cell_type": "markdown",
      "metadata": {
        "id": "ZifzC_6KkQ0Y"
      },
      "source": [
        "Procedure: edge_()\n",
        "\n",
        "\n",
        "```\n",
        "for i in range(m)\n",
        "  input(a, b)\n",
        "  connect(a-1, b-1)\n",
        "```\n",
        "\n"
      ]
    },
    {
      "cell_type": "markdown",
      "metadata": {
        "id": "_jHtLrvnkvkA"
      },
      "source": [
        "Procedure: block_()\n",
        "\n",
        "```\n",
        "for i in range(n)\n",
        "    if i == cn[i] then block.append(count[i])\n",
        "```\n",
        "\n"
      ]
    },
    {
      "cell_type": "markdown",
      "metadata": {
        "id": "1d62Kzbwk_du"
      },
      "source": [
        "\n",
        "```\n",
        "edge = len(block)-1\n",
        "for i in block\n",
        "  way = way * i\n",
        "for i in range(len(block)-2)\n",
        "  way = way * n\n",
        "```\n",
        "\n"
      ]
    },
    {
      "cell_type": "markdown",
      "metadata": {
        "id": "yF2TGMXc22R2"
      },
      "source": [
        "# **4. ĐÁNH GIÁ ĐỘ PHỨC TẠP CỦA THUẬT TOÁN**\n",
        "Độ phức tạp thuật toán = O(n)"
      ]
    },
    {
      "cell_type": "markdown",
      "metadata": {
        "id": "p51mthGe287K"
      },
      "source": [
        "# **5. PROGRAMMING**"
      ]
    },
    {
      "cell_type": "code",
      "metadata": {
        "colab": {
          "base_uri": "https://localhost:8080/"
        },
        "id": "mlQxZAhflwUO",
        "outputId": "d345aacb-a2b9-4e1b-fbef-abc90c5c221f"
      },
      "source": [
        "import sys\n",
        "mod = 1000000000+7\n",
        "n,m = map(int, input().split())\n",
        "block = []\n",
        "ways = 1\n",
        "cn = [i for i in range(n)]\n",
        "count = [1 for i in range(n)]"
      ],
      "execution_count": 1,
      "outputs": [
        {
          "output_type": "stream",
          "text": [
            "3 1\n"
          ],
          "name": "stdout"
        }
      ]
    },
    {
      "cell_type": "code",
      "metadata": {
        "id": "1kcOvMbEl8if"
      },
      "source": [
        "def root(u):\n",
        "    v = u\n",
        "    while (u != cn[u]):\n",
        "        u = cn[u]\n",
        "    cn[v] = u\n",
        "    return u"
      ],
      "execution_count": 2,
      "outputs": []
    },
    {
      "cell_type": "code",
      "metadata": {
        "id": "TlK_y-EZmBYV"
      },
      "source": [
        "def connect(u, v):\n",
        "    u = root(u)\n",
        "    v = root(v)\n",
        "    if u!=v:\n",
        "        if count[u] > count[v]:\n",
        "            cn[v] = u\n",
        "            count[u] += count[v]\n",
        "        else:\n",
        "            cn[u] = v\n",
        "            count[v] +=count[u]"
      ],
      "execution_count": 3,
      "outputs": []
    },
    {
      "cell_type": "code",
      "metadata": {
        "id": "xnwxKzD7mDqX"
      },
      "source": [
        "def power(k):\n",
        "    if k == 0:\n",
        "        return 1\n",
        "    if k == 1:\n",
        "      return n\n",
        "    rs1 = power(k//2)\n",
        "    if k % 2 == 0:\n",
        "      rs2 = rs1\n",
        "    else:\n",
        "      rs2 = (rs1*n)%mod\n",
        "    rs = (rs1*rs2)%mod\n",
        "    return rs"
      ],
      "execution_count": 4,
      "outputs": []
    },
    {
      "cell_type": "code",
      "metadata": {
        "colab": {
          "base_uri": "https://localhost:8080/"
        },
        "id": "r9_CYs3CmJJO",
        "outputId": "dcf6bb4e-f794-462b-cf42-71180c838027"
      },
      "source": [
        "for i in range(m):\n",
        "    a,b = map(int, input().split())\n",
        "    if a < 1 or b < 1: continue\n",
        "    if a > n or b > n: continue\n",
        "    connect(a-1, b-1)"
      ],
      "execution_count": 5,
      "outputs": [
        {
          "output_type": "stream",
          "text": [
            "1 2\n"
          ],
          "name": "stdout"
        }
      ]
    },
    {
      "cell_type": "code",
      "metadata": {
        "id": "TxSzgBxbmLhB"
      },
      "source": [
        "for i in range(n):\n",
        "    if i == cn[i]:\n",
        "        block.append(count[i])"
      ],
      "execution_count": 6,
      "outputs": []
    },
    {
      "cell_type": "code",
      "metadata": {
        "colab": {
          "base_uri": "https://localhost:8080/"
        },
        "id": "IY-zbJp9mPC5",
        "outputId": "d03d2ea6-7766-4915-d819-3de23496a1a5"
      },
      "source": [
        "if len(block) == 1:\n",
        "    print(0)\n",
        "    print(0)\n",
        "else:\n",
        "    for i in block:\n",
        "        ways = (ways * i)%mod\n",
        "    x = len(block)-2\n",
        "    ways = (ways * power(x)) % mod\n",
        "\n",
        "    print(len(block)-1)\n",
        "    print(ways)"
      ],
      "execution_count": 7,
      "outputs": [
        {
          "output_type": "stream",
          "text": [
            "1\n",
            "2\n"
          ],
          "name": "stdout"
        }
      ]
    }
  ]
}