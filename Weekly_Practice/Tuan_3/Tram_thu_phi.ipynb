{
  "nbformat": 4,
  "nbformat_minor": 0,
  "metadata": {
    "colab": {
      "name": "Tram_thu_phi.ipynb",
      "provenance": [],
      "collapsed_sections": [],
      "toc_visible": true
    },
    "kernelspec": {
      "name": "python3",
      "display_name": "Python 3"
    },
    "language_info": {
      "name": "python"
    }
  },
  "cells": [
    {
      "cell_type": "markdown",
      "metadata": {
        "id": "OXVdt0NYgK53"
      },
      "source": [
        "# Nhóm 2 - Bài Trạm thu phí\n",
        "\n",
        "\n",
        " \n",
        "\n",
        " \n",
        "\n",
        "\n",
        "\n",
        "\n",
        "\n",
        " \n",
        "\n",
        " \n",
        "\n"
      ]
    },
    {
      "cell_type": "markdown",
      "metadata": {
        "id": "Jvc_5eZPsmTR"
      },
      "source": [
        "# 1. Problem"
      ]
    },
    {
      "cell_type": "markdown",
      "metadata": {
        "id": "HjbJkHXmvVUK"
      },
      "source": [
        "BOT (Built-Operation-Transfer, có nghĩa: Xây dựng-Vận hành-Chuyển giao) là hình thức Chính phủ kêu gọi các công ty bỏ vốn xây dựng trước (Built) thông qua đấu thầu, sau đó khai thác vận hành một thời gian (Operation) và sau cùng là chuyển giao (Transfer) lại cho nhà nước sở tại.\n",
        "\n",
        "Đường cao tốc xuyên quốc gia được xây dựng theo hình thức BOT. Công ty Đa quốc gia Modern Highway trúng thầu, chia toàn bộ con đường thành ***n*** đoạn. Theo tính toán của Công ty sau khi chuyển giao con đường cho chính phủ sở tại quản lý thì lãi thu được ở đoạn đường thứ ***i*** là ***$a_{i}$***, ***$a_{i}$*** có thể dương, âm hoặc bằng 0, tức là với từng đoạn con có thể lãi, lỗ hoặc hòa vốn. Từng nhóm các đoạn đường liên tiếp nhau (gọi tắt là khoảng) được chia cho các công ty con thực hiện. Công ty con ASEAM Highway hiện đang có trụ sở ở nước sở tại được quyền chọn trước khoảng tùy ý (có thể là cả con đường).\n",
        "\n",
        "Dĩ nhiên Ban Giám đốc ASEAM Highway muốn chọn khoảng bắt đầu từ đoạn ***p*** đến hết đoạn ***q*** mang lại lợi nhuận cao nhất hoặc lỗ ít nhất nếu không có khoảng nào cho lãi.\n",
        "\n",
        "Hãy chỉ ra khoảng cần chọn và lãi thu được. Nếu có nhiều cách chọn thì chỉ ra cách chọn có ***p*** nhỏ nhất.\n",
        "\n",
        "***Dữ liệu:*** Vào từ thiết bị nhập chuẩn:\n",
        "\n",
        "* Dòng đầu tiên chứa số nguyên ***n*** (1 ≤ ***n*** ≤ $10^6$),\n",
        "* Dòng thứ 2 chứa ***n*** số nguyên ***$a_{1}, a_{2}, . . ., a_{n}$*** (0 ≤ |***$a_{i}$***| ≤ $10^9$, ***i*** = 1 ÷ ***n***).\n",
        "\n",
        "***Kết quả:*** Đưa ra thiết bị xuất chuẩn trên một dòng 2 số nguyên ***p***, ***q*** và lãi thu được.\n",
        "\n",
        "***Ví dụ:***\n",
        "\n",
        "INPUT\n",
        "```\n",
        "16\n",
        "\n",
        "2 -4 5 -8 4 -1 -1 1 1 1 -2 2 4 -6 9 -4\n",
        "```\n",
        "\n",
        "OUTPUT\n",
        " ```\n",
        "5 15 12\n",
        "```\n",
        "\n",
        "\n"
      ]
    },
    {
      "cell_type": "markdown",
      "metadata": {
        "id": "90t82JodtbDF"
      },
      "source": [
        "#2. Abstraction\n",
        "\n"
      ]
    },
    {
      "cell_type": "markdown",
      "metadata": {
        "id": "T5cUokMivcOt"
      },
      "source": [
        "Cho mảng **a** gồm **n** phần tử số nguyên, tìm đoạn có tổng các phần tử lớn nhất trên mảng **a** ($ n \\in \\mathbb{Z} $,  1 ≤ n ≤ $10^6$)(0 ≤ |***$a_{i}$***| ≤ $10^9$, ***i*** = 1 ÷ ***n***)."
      ]
    },
    {
      "cell_type": "markdown",
      "metadata": {
        "id": "UQ7NrMemtoKj"
      },
      "source": [
        "#3. Pattern Recognition\n"
      ]
    },
    {
      "cell_type": "markdown",
      "metadata": {
        "id": "A2KPKRDgvfFP"
      },
      "source": [
        "Bài toán quy hoạch động."
      ]
    },
    {
      "cell_type": "markdown",
      "metadata": {
        "id": "FqbQegl-vAb6"
      },
      "source": [
        "# 4. Algorithm Designed \n"
      ]
    },
    {
      "cell_type": "markdown",
      "metadata": {
        "id": "vey8itf64JXY"
      },
      "source": [
        "Danh sách biến:\n",
        "- current_end: biến chạy, đồng thời cũng lưu kết thúc của mảng con đang xét hiện tại.\n",
        "- current_start: lưu bắt đầu của mảng con đang xét hiện tại.\n",
        "- current_sum: tổng của mảng con đang xét hiện tại.\n",
        "- best_sum: lưu tổng mảng con tổng lớn nhất.\n",
        "- best_start: lưu bắt đầu của mảng con tổng lớn nhất (kết quả).\n",
        "- best_end: lưu kết thúc của mảng con tổng lớn nhất (kết quả).\n",
        "\n",
        "Ý tưởng:\n",
        "\n",
        "Khi current_end đang chạy, nếu như phần tử tại vị trí đó lớn hơn current_sum thì current_sum bằng phần tử đó, khi đó current_start = current_end, nếu không, current_sum sẽ cộng tiếp cho phần tử đó.\n",
        "\n",
        "Nếu current_sum > best_sum thì tất cả các biến best_* = current_*\n"
      ]
    },
    {
      "cell_type": "markdown",
      "metadata": {
        "id": "AA9q2NvXuk15"
      },
      "source": [
        "```\n",
        "for (current_end = 0; current_end < n; current_end++):\n",
        "  if (current_sum + a[current_end] <= a[current_end]):\n",
        "    current_sum = a[current_end]\n",
        "    current_start = current_end\n",
        "  else:\n",
        "    current_sum = current_sum + a[current_end]\n",
        "  if (current_sum > best_sum):\n",
        "    best_sum = current_sum\n",
        "    best_start = current_start\n",
        "    best_end = current_end\n",
        "```\n"
      ]
    },
    {
      "cell_type": "markdown",
      "metadata": {
        "id": "7l-6ROJM7g0X"
      },
      "source": [
        "#5. Đánh giá độ phức tạp"
      ]
    },
    {
      "cell_type": "markdown",
      "metadata": {
        "id": "pHJ9MARB7n70"
      },
      "source": [
        "Độ phức tạp của thuật toán trên là O(n)."
      ]
    },
    {
      "cell_type": "markdown",
      "metadata": {
        "id": "65Wl9z3e74sr"
      },
      "source": [
        "#6. Programming"
      ]
    },
    {
      "cell_type": "code",
      "metadata": {
        "id": "rH4kOa9l8OUY"
      },
      "source": [
        "def max_subarray(numbers):\n",
        "    best_sum = float('-inf')\n",
        "    best_start = best_end = None\n",
        "    current_sum = float('-inf')\n",
        "    for current_end, x in enumerate(numbers):\n",
        "        if current_sum < 0:\n",
        "            current_start = current_end\n",
        "            current_sum = x\n",
        "        else:\n",
        "            current_sum += x\n",
        "            \n",
        "        if current_sum > best_sum:\n",
        "            best_sum = current_sum\n",
        "            best_start = current_start\n",
        "            best_end = current_end  \n",
        "\n",
        "    return best_sum, best_start + 1, best_end + 1"
      ],
      "execution_count": null,
      "outputs": []
    }
  ]
}
