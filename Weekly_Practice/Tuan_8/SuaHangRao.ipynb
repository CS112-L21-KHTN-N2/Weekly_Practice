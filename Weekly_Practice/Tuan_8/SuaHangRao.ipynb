{
  "nbformat": 4,
  "nbformat_minor": 0,
  "metadata": {
    "colab": {
      "name": "SuaHangRao.ipynb",
      "provenance": [],
      "collapsed_sections": [],
      "authorship_tag": "ABX9TyMAXL6M9Use1hcTs0WnzpQT",
      "include_colab_link": true
    },
    "kernelspec": {
      "name": "python3",
      "display_name": "Python 3"
    },
    "language_info": {
      "name": "python"
    }
  },
  "cells": [
    {
      "cell_type": "markdown",
      "metadata": {
        "id": "view-in-github",
        "colab_type": "text"
      },
      "source": [
        "<a href=\"https://colab.research.google.com/github/CS112-L21-KHTN-N2/Weekly_Practice/blob/main/Tuan_8/SuaHangRao.ipynb\" target=\"_parent\"><img src=\"https://colab.research.google.com/assets/colab-badge.svg\" alt=\"Open In Colab\"/></a>"
      ]
    },
    {
      "cell_type": "markdown",
      "metadata": {
        "id": "EPde_ICHUEHq"
      },
      "source": [
        "# **NHÓM 2 : BÀI SỬA HÀNG RÀO**"
      ]
    },
    {
      "cell_type": "markdown",
      "metadata": {
        "id": "2vMjzT6RUI9l"
      },
      "source": [
        "# **ĐỀ BÀI**"
      ]
    },
    {
      "cell_type": "markdown",
      "metadata": {
        "id": "UzunjwVJUMV7"
      },
      "source": [
        "Sau khi dựng xong nhà kho chứa cỏ, dì Poly quyết định dùng m tấm gỗ còn thừa gia cố hàng rào của vườn rau ngăn không cho gà vào phá và giao công việc này cho Tôm và Hấc Phin làm. Nhiệm vụ của hai cậu bé tội nghiệp là đóng thêm vào các tấm ván hàng rào để có hàng rào mới càng cao càng tốt. Nhìn vẽ mặt buồn thiu và lóng ngóng của 2 đứa Jim quyết định sẽ làm giúp. Hàng rào được ghép từ n tấm gỗ cùng độ rộng như nhau và bằng độ rộng của các tấm gỗ còn thừa, tấm thứ i có độ cao ai, i = 1 ÷ n. Tôm và Hấc Phin chỉ phải xếp các tấm còn thừa lên xe ba gác để Jim kéo đi. Các tấm gỗ được xếp thành một chồng, tính từ trên xuống tấm thứ j có độ dài bj, j = 1 ÷ m. Jim kéo xe ba gác đi dọc theo hàng rào. Đến một tấm nào đó muốn gia cố Jim sẽ lấy một tấm gỗ từ xe đóng tiếp lên tấm gỗ trên hàng rào và độ cao mới của tấm này trên hàng rào sẽ là tổng độ cao của tấm cũ và tấm mới đóng thêm. Jim chỉ đóng thêm một tấm mới vào tấm cũ vì muốn đảm bảo độ chắc chắn của hàng rào. Jim có thể lấy tấm trên cùng ở xe hoặc vất ra khỏi xe một số tấm cho đến khi gặp tấm vừa ý. Người ta vẫn nói “Khôn đâu tới trẻ, khỏe đâu tới già!”  Jim đã đứng tuổi và không còn sức để xếp lại các tấm gỗ bị bỏ ra vào xe. Ngoài ra, Jim cũng khá mê tín nên không quay lại lấy những tấm đã loại.\n",
        "\n",
        "Hãy xác định độ cao lớn nhất có thể đạt được của hàng rào sau khi gia cố. Độ cao của hàng rào được tính bằng độ cao tấm gỗ thấp nhất trên hàng rào.\n",
        "\n",
        "**Dữ liệu**: Vào từ thiết bị nhập chuẩn:\n",
        "\n",
        "* Dòng đầu tiên chứa số nguyên n (1 ≤ n ≤ 105),\n",
        "* Dòng thứ 2 chứa n số nguyên a1, a2, . . ., an (1 ≤ ai ≤ 108, i = 1 ÷ n),\n",
        "* Dòng thứ 3 chứa số nguyên m  (1 ≤ m ≤ 105),\n",
        "* Dòng cuối cùng chứ m số nguyên b1, b2, . . ., bm (1 ≤ bj ≤ 108, j = 1÷ m).\n",
        "\n",
        "**Kết quả**: Đưa ra thiết bị xuất chuẩn, dòng đầu tiên chứa 2 số nguyên h và k – độ cao lớn nhất có thể của hàng rào và số tấm gỗ đã được đóng thêm, mỗi dòng trong k dòng tiếp theo chứa 2 số nguyên x và y, trong đó x – tấm gỗ trên hàng rào được đóng cao hơn, y – tấm gỗ được dùng để đóng. Đưa ra phương án có các số hiệu tấm ván được chọn là nhỏ nhất nếu tồn tại nhiều cách đóng khác nhau."
      ]
    },
    {
      "cell_type": "markdown",
      "metadata": {
        "id": "2GMRbnOTUsEB"
      },
      "source": [
        "# **1. ABSTRACTION**"
      ]
    },
    {
      "cell_type": "markdown",
      "metadata": {
        "id": "CGCHDVrLUxO3"
      },
      "source": [
        "Cho 2 mảng A và B, lần lượt chọn và thêm phần tử B vào A sao cho phần tử nhỏ nhất của mảng A lớn nhất có thể, biết chỉ xét B theo một chiều."
      ]
    },
    {
      "cell_type": "markdown",
      "metadata": {
        "id": "MMPXqaMGVmd5"
      },
      "source": [
        "# **2. PATTERN RECOGNITION**"
      ]
    },
    {
      "cell_type": "markdown",
      "metadata": {
        "id": "vwliper8WLY1"
      },
      "source": [
        "Sử dụng Binary Search"
      ]
    },
    {
      "cell_type": "markdown",
      "metadata": {
        "id": "93wntOKeVtNe"
      },
      "source": [
        "# **3. ALGORITHM DESIGNED**"
      ]
    },
    {
      "cell_type": "markdown",
      "metadata": {
        "id": "LT-t_mUCW2Wm"
      },
      "source": [
        "Đầu tiên, ta xác định khoảng của phần tử nhỏ nhất trong mảng cần tìm(h) : \n",
        "\n",
        "\n",
        "\n",
        "```\n",
        "min(A) ≤ h ≤ ((sum(A)+sum(b))//n)\n",
        "\n",
        "begin = min(A)\n",
        "\n",
        "end = ((sum(A)+sum(b))//n)\n",
        "```\n",
        "\n"
      ]
    },
    {
      "cell_type": "markdown",
      "metadata": {
        "id": "LZoknJ88250f"
      },
      "source": [
        "h thỏa khi : \n",
        "\n",
        "\n",
        "```\n",
        "PRODURE : check(h):\n",
        "    j = 0\n",
        "    for i in range(n):\n",
        "        if a[i] < h:\n",
        "            T = False\n",
        "            while j < m:\n",
        "                if a[i] + b[j] >= h:\n",
        "                    T = True\n",
        "                    j = j+1\n",
        "                    break\n",
        "                j = j+1\n",
        "            if T == False:\n",
        "                return False\n",
        "    return True\n",
        "```\n",
        "\n"
      ]
    },
    {
      "cell_type": "markdown",
      "metadata": {
        "id": "j23wdwyB3hml"
      },
      "source": [
        "Ta thấy nếu h = i thỏa thì h = j < i thỏa. Vì vậy ta có thể sử dụng Binary Search để tìm h = i lớn nhất sao cho h = i thỏa và h = i +1 không thỏa.\n",
        "\n",
        "\n",
        "```\n",
        "PRODURE Binarysearch(begin, end):\n",
        "    while begin <= end:\n",
        "        h=(begin+end)//2\n",
        "        kt = check(h)\n",
        "        if kt == True:\n",
        "            begin = h+1\n",
        "        else:\n",
        "            end = h-1\n",
        "    return end\n",
        "```\n",
        "\n"
      ]
    },
    {
      "cell_type": "markdown",
      "metadata": {
        "id": "Sw8FhbXBVxeO"
      },
      "source": [
        "# **4. ĐÁNH GIÁ ĐỘ PHỨC TẠP**"
      ]
    },
    {
      "cell_type": "markdown",
      "metadata": {
        "id": "l2oIpw7c7N4Q"
      },
      "source": [
        "Độ phức tạp : O(mnlog(max(B)))\n",
        "\n"
      ]
    },
    {
      "cell_type": "markdown",
      "metadata": {
        "id": "1nfFG6m1V48d"
      },
      "source": [
        "# **5.PROGRAMMING**"
      ]
    },
    {
      "cell_type": "code",
      "metadata": {
        "colab": {
          "base_uri": "https://localhost:8080/"
        },
        "id": "4hYbHboo5hWb",
        "outputId": "b582b29d-1d4f-48db-dcc2-ecddaf1c9633"
      },
      "source": [
        "n = int(input())\n",
        "if n>0:\n",
        "    a = list(map(int, input().split()))\n",
        "    begin = min(a)\n",
        "m = int(input())\n",
        "if m>0:\n",
        "    b = list(map(int, input().split()))\n",
        "    end = (sum(a)+sum(b))//n"
      ],
      "execution_count": 1,
      "outputs": [
        {
          "output_type": "stream",
          "text": [
            "6\n",
            "2 5 4 1 7 5\n",
            "7\n",
            "2 3 1 3 2 4 6\n"
          ],
          "name": "stdout"
        }
      ]
    },
    {
      "cell_type": "code",
      "metadata": {
        "id": "74daaef35x_7"
      },
      "source": [
        "def check(h):\n",
        "    j = 0\n",
        "    for i in range(n):\n",
        "        if a[i] < h:\n",
        "            T = False\n",
        "            while j < m:\n",
        "                if a[i] + b[j] >= h:\n",
        "                    T = True\n",
        "                    j = j+1\n",
        "                    break\n",
        "                j = j+1\n",
        "            if T == False:\n",
        "                return False\n",
        "    return True"
      ],
      "execution_count": 2,
      "outputs": []
    },
    {
      "cell_type": "code",
      "metadata": {
        "id": "VWueW0G454PG"
      },
      "source": [
        "def Binarysearch():\n",
        "    global begin, end\n",
        "    while begin <= end:\n",
        "        h=(begin+end)//2\n",
        "        kt = check(h)\n",
        "        if kt == True:\n",
        "            begin = h+1\n",
        "        else:\n",
        "            end = h-1\n",
        "    return end"
      ],
      "execution_count": 3,
      "outputs": []
    },
    {
      "cell_type": "code",
      "metadata": {
        "colab": {
          "base_uri": "https://localhost:8080/"
        },
        "id": "f3zhj1p76CJo",
        "outputId": "53ebf487-e3cc-47d1-fb4a-3319ed9f4f82"
      },
      "source": [
        "h = Binarysearch()\n",
        "tmp = []\n",
        "j = 0\n",
        "for i in range(n):\n",
        "  if a[i] < h:\n",
        "    while j < m:\n",
        "      if a[i] + b[j] >= h:\n",
        "        j = j+1\n",
        "        break\n",
        "      j = j+1\n",
        "    tmp.append((i+1, j))\n",
        "print(h, len(tmp))\n",
        "for i in tmp:\n",
        "  print(i[0], i[1])"
      ],
      "execution_count": 4,
      "outputs": [
        {
          "output_type": "stream",
          "text": [
            "5 3\n",
            "1 2\n",
            "3 3\n",
            "4 6\n"
          ],
          "name": "stdout"
        }
      ]
    }
  ]
}