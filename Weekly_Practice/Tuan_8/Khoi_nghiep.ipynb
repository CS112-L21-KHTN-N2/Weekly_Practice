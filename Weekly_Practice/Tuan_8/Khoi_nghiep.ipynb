{
  "nbformat": 4,
  "nbformat_minor": 0,
  "metadata": {
    "colab": {
      "name": "Khoi_nghiep.ipynb",
      "provenance": [],
      "authorship_tag": "ABX9TyMIoHAB+ibvV1zWfCj/VY3E",
      "include_colab_link": true
    },
    "kernelspec": {
      "name": "python3",
      "display_name": "Python 3"
    },
    "language_info": {
      "name": "python"
    }
  },
  "cells": [
    {
      "cell_type": "markdown",
      "metadata": {
        "id": "view-in-github",
        "colab_type": "text"
      },
      "source": [
        "<a href=\"https://colab.research.google.com/github/CS112-L21-KHTN-N2/Weekly_Practice/blob/main/Tuan_8/Khoi_nghiep.ipynb\" target=\"_parent\"><img src=\"https://colab.research.google.com/assets/colab-badge.svg\" alt=\"Open In Colab\"/></a>"
      ]
    },
    {
      "cell_type": "markdown",
      "metadata": {
        "id": "dwVW12XXR8xG"
      },
      "source": [
        "#1.Problem\n"
      ]
    },
    {
      "cell_type": "markdown",
      "metadata": {
        "id": "dXwKdycKSEB2"
      },
      "source": [
        "Sau thời gian làm việc tại nhà (work from home) do tình hình dịch bệnh, công ty ***X*** nhận thấy đây là cơ hội để thay đổi mô hình làm việc của công ty để hướng tới tính đơn giản, hiệu quả cao hơn trong công việc. Cụ thể, công ty hiện tại gồm ***n*** nhân viên. Có ***m*** quan hệ dạng (***$a_{i}$***, ***$b_{i}$***) trong đó người ***$b_{i}$*** nhận công việc từ người $a_{i}$ và ***$a_{i}$*** chỉ đạo cho ***$b_{i}$***. Mỗi nhân viên khi nhận việc có thể phân công cho những nhân viên do mình chỉ đạo. Nếu công viêc từ ***a*** có thể tới được ***b***, ta gọi ***a*** là cấp trên của ***b*** và ***b*** là cấp dưới của ***a***.\n",
        "\n",
        "Sau khi họp đại hội cổ đông trực tuyến, công ty ***X*** quyết định thực hiện tái cấu trúc như sau:\n",
        "\n",
        "- Thứ nhất, chọn ra một giám đốc, người này phải là người không có cấp trên và công việc mà người này phân công có thể tới được mọi người trong công ty;\n",
        "- Những người còn lại, mỗi người sẽ chỉ còn nhận việc trực tiếp từ đúng 1 người. Để tránh xáo trộn trong hoạt động sau khi thực hiện thay đổi, với mỗi người, tập những người là cấp trên của người đó phải không thay đổi (so với trước khi thực hiện tái cấu trúc).\n",
        "\n",
        "***Yêu cầu:*** Xác định công ty X có thể tái cấu trúc hay không, nếu không được - đưa ra thông báo “***No***”. Trong trường hợp có thể – đưa ra thông báo “***Yes***” và chỉ ra dãy số $p_{i}$ xác định người có quyền phân công công việc cho người ***i*** (1 ≤ ***i*** ≤ ***n***). Với Giám đốc ***$p_{i}$*** tương ứng có giá trị là ***-1***.\n",
        "\n",
        "***Dữ liệu:*** Vào từ file thiết bị nhập chuẩn:\n",
        "\n",
        "- Dòng đầu tiên chứa 2 số nguyên ***n*** và ***m*** (1 ≤ ***n***, ***m*** ≤ $5×10^{5}$),\n",
        "- Dòng thứ ***i*** trong ***m*** dòng sau chứa 2 số nguyên ***$a_{i}$*** và ***$b_{i}$*** (1 ≤ ***$a_{i}$***, ***$b_{i}$*** ≤ ***n***, ***$a_{i}$*** ≠ ***$b_{i}$***).\n",
        "\n",
        "***Kết quả:*** Đưa ra thiết bị xuất chuẩn thông báo “***No***” hoặc “***Yes***”. Nếu kết quả là “***Yes***” – trên dòng thứ 2 đưa ra n số nguyên ***$p_{1}, p_{2}, . . ., p_{n}$*** tương ứng.\n",
        "\n",
        "***Ví dụ:***\n",
        "\n",
        "INPUT \n",
        "```\n",
        "3 3   \n",
        "1 2   \n",
        "2 3\n",
        "1 3\n",
        "```\n",
        "OUTPUT\n",
        "```\n",
        "Yes\n",
        "-1 1 2\n",
        "```\n",
        "\n"
      ]
    },
    {
      "cell_type": "markdown",
      "metadata": {
        "id": "wLTgVHQDVvm3"
      },
      "source": [
        "#2.Abstraction"
      ]
    },
    {
      "cell_type": "markdown",
      "metadata": {
        "id": "ExsVck5Oioju"
      },
      "source": [
        "Cho 2 mảng gồm mảng sếp và mảng nhân viên dưới quyền tương ứng với từng sếp. Xác định xem có thể tái cấu trúc hay không, nếu có thì xuất ra Yes và cấp trên của từng nhân viên mảng nhân viên, nếu không xuất No"
      ]
    },
    {
      "cell_type": "markdown",
      "metadata": {
        "id": "OtrTL_34jI2A"
      },
      "source": [
        "#3.Programming"
      ]
    },
    {
      "cell_type": "code",
      "metadata": {
        "colab": {
          "base_uri": "https://localhost:8080/"
        },
        "id": "mH6iIuOpZf7B",
        "outputId": "2eb0bbac-f513-4d11-b2a3-d30018073f64"
      },
      "source": [
        "#True\n",
        "from sys import stdin, stdout \n",
        "import sys\n",
        "\n",
        "a = []\n",
        "b = []\n",
        "sys.setrecursionlimit(10**6)\n",
        "t = stdin.readline().split()\n",
        "n, m = [int(x) for x in t]\n",
        "\n",
        "for i in range(m):\n",
        "  t = stdin.readline().split()\n",
        "  x,y = [int(x) for x in t]\n",
        "  a.append(x)\n",
        "  b.append(y)\n",
        "\n",
        "#chon ra giam doc\n",
        "#true\n",
        "giam_doc = a[a.index(a not in b)]\n",
        "\n",
        "mark = [0] * (n + 1)# mang nay se luu tru cap tren cua nhan vien thu b[i] -> mark[b[i]]\n",
        "mark[giam_doc] = -1\n",
        "\n",
        "isSameBoss = False\n",
        "\n",
        "for i in range(m):\n",
        "  if mark[b[i]] != 0:\n",
        "    if mark[b[i]] == giam_doc:\n",
        "      mark[b[i]] = a[i]\n",
        "    elif a[i] == giam_doc:\n",
        "      continue\n",
        "    else:\n",
        "      isSameBoss = True\n",
        "      break\n",
        "  else:\n",
        "    mark[b[i]] = a[i]\n",
        "\n",
        "\n",
        "if isSameBoss == False:\n",
        "  print('Yes')\n",
        "  for x in mark[1: n + 1]:\n",
        "    print(x, end = ' ')\n",
        "else: \n",
        "  print('No')"
      ],
      "execution_count": null,
      "outputs": [
        {
          "output_type": "stream",
          "text": [
            "3 3\n",
            "1 2\n",
            "2 3\n",
            "1 3\n",
            "Yes\n",
            "-1 1 2 "
          ],
          "name": "stdout"
        }
      ]
    }
  ]
}