{
  "nbformat": 4,
  "nbformat_minor": 0,
  "metadata": {
    "colab": {
      "name": "Nhóm 2.ipynb",
      "provenance": [],
      "include_colab_link": true
    },
    "kernelspec": {
      "name": "python3",
      "display_name": "Python 3"
    },
    "language_info": {
      "name": "python"
    }
  },
  "cells": [
    {
      "cell_type": "markdown",
      "metadata": {
        "id": "view-in-github",
        "colab_type": "text"
      },
      "source": [
        "<a href=\"https://colab.research.google.com/github/CS112-L21-KHTN-N2/Homework/blob/main/Practice(1)/Nh%C3%B3m_2.ipynb\" target=\"_parent\"><img src=\"https://colab.research.google.com/assets/colab-badge.svg\" alt=\"Open In Colab\"/></a>"
      ]
    },
    {
      "cell_type": "markdown",
      "metadata": {
        "id": "SMYCvWC_cWSl"
      },
      "source": [
        "#1.Abstraction"
      ]
    },
    {
      "cell_type": "markdown",
      "metadata": {
        "id": "uhTk4mqbcbhl"
      },
      "source": [
        "Cho 1 mảng gồm các số nguyên dương, tìm mảng con gồm 3 phần tử có tổng lớn nhất thỏa bất đẳng thức tam giác, nếu có nhiều mảng con như vậy chọn mảng con có phần tử lớn nhất lớn nhất. Nếu không có mảng con, xuất -1."
      ]
    },
    {
      "cell_type": "markdown",
      "metadata": {
        "id": "73SO4ponFFBV"
      },
      "source": [
        "#2. Pattern Recognition"
      ]
    },
    {
      "cell_type": "markdown",
      "metadata": {
        "id": "CS0UvU84FIsv"
      },
      "source": [
        "Thay vì ta duyệt từng phần tử với từng phần tử và kiểm tra cả 3 điều kiện:\n",
        "```\n",
        "a + b > c\n",
        "b + c > a\n",
        "a + c > b\n",
        "```\n",
        " -> độ phức tạp O(${n^3}$)\n",
        " \n",
        "Ta có thể sắp xếp mảng này để độ phức tạp nhỏ hơn vì lúc đó ta lấy bộ 3 theo thứ tự giảm dần, ta sẽ có ${a\\ge b \\ge c}$ =>  ${a + b > c}$ và ${a + c > b}$, giờ chỉ còn kiểm tra ${b + c > a}$ hay không."
      ]
    },
    {
      "cell_type": "markdown",
      "metadata": {
        "id": "wKDWq97ZdeOs"
      },
      "source": [
        "#2.Algorithm Design"
      ]
    },
    {
      "cell_type": "markdown",
      "metadata": {
        "id": "NFFssS-OdjMh"
      },
      "source": [
        "1. Sắp xếp mảng theo thứ tự giảm dần. \n",
        "\n",
        "2. Duyệt mảng từ 0 đến len(sticks)-3 với biến i :\n",
        "- Nếu ${sticks[i] < sticks[i+1] + sticks[i+2]}$ thì xuất ra kết quả.\n",
        "\n",
        "- Nếu không xuất -1"
      ]
    },
    {
      "cell_type": "code",
      "metadata": {
        "colab": {
          "base_uri": "https://localhost:8080/"
        },
        "id": "cWZ4VCQ5cUdS",
        "outputId": "5da1af25-8ade-4963-956d-2e420c3a8f51"
      },
      "source": [
        "def maximumPerimeterTriangle(sticks):\n",
        "    sticks = sorted(sticks, reverse = True)\n",
        "    for i in range(0, len(sticks) - 2):\n",
        "        if sticks[i] < sticks[i + 1] + sticks[i+2]:\n",
        "            return [sticks[i + 2], sticks[i + 1], sticks[i]]\n",
        "    return [-1]\n",
        "    \n",
        "n = int(input())\n",
        "sticks = list(map(int, input().split()))\n",
        "result = maximumPerimeterTriangle(sticks)\n",
        "print(result)"
      ],
      "execution_count": null,
      "outputs": [
        {
          "output_type": "stream",
          "text": [
            "3\n",
            "1 2 3\n",
            "[-1]\n"
          ],
          "name": "stdout"
        }
      ]
    },
    {
      "cell_type": "markdown",
      "metadata": {
        "id": "0PEj-J5aE7FQ"
      },
      "source": [
        "Độ phức tạp: O(nlogn) (sort)"
      ]
    }
  ]
}