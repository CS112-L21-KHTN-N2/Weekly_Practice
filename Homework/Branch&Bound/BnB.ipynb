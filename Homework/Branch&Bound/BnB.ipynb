{
  "nbformat": 4,
  "nbformat_minor": 0,
  "metadata": {
    "colab": {
      "name": "BnB.ipynb",
      "provenance": [],
      "authorship_tag": "ABX9TyPCXcF7AMh4ZoLiHlz268F0",
      "include_colab_link": true
    },
    "kernelspec": {
      "name": "python3",
      "display_name": "Python 3"
    },
    "language_info": {
      "name": "python"
    }
  },
  "cells": [
    {
      "cell_type": "markdown",
      "metadata": {
        "id": "view-in-github",
        "colab_type": "text"
      },
      "source": [
        "<a href=\"https://colab.research.google.com/github/CS112-L21-KHTN-N2/Homework/blob/main/Branch%26Bound/BnB.ipynb\" target=\"_parent\"><img src=\"https://colab.research.google.com/assets/colab-badge.svg\" alt=\"Open In Colab\"/></a>"
      ]
    },
    {
      "cell_type": "code",
      "metadata": {
        "colab": {
          "base_uri": "https://localhost:8080/"
        },
        "id": "iIGHGnazkBpr",
        "outputId": "0f1de018-7356-4034-8da3-2d984c1bb572"
      },
      "source": [
        "N = int(input())\n",
        "\n",
        "def printSolution(board):\n",
        "\tfor i in range(N):\n",
        "\t\tfor j in range(N):\n",
        "\t\t\tprint(board[i][j], end = \" \")\n",
        "\t\tprint()\n",
        "\n",
        "def isSafe(row, col, slashCode, backslashCode,\n",
        "\t\trowLookup, slashCodeLookup,\n",
        "\t\t\t\t\tbackslashCodeLookup):\n",
        "\tif (slashCodeLookup[slashCode[row][col]] or\n",
        "\t\tbackslashCodeLookup[backslashCode[row][col]] or\n",
        "\t\trowLookup[row]):\n",
        "\t\treturn False\n",
        "\treturn True\n",
        "\n",
        "def solveNQueensUtil(board, col, slashCode, backslashCode,\n",
        "\t\t\t\t\trowLookup, slashCodeLookup,\n",
        "\t\t\t\t\tbackslashCodeLookup):\n",
        "\t\t\t\t\t\t\n",
        "\tif(col >= N):\n",
        "\t\treturn True\n",
        "\tfor i in range(N):\n",
        "\t\tif(isSafe(i, col, slashCode, backslashCode,\n",
        "\t\t\t\trowLookup, slashCodeLookup,\n",
        "\t\t\t\tbackslashCodeLookup)):\n",
        "\t\t\t\t\t\n",
        "\t\t\tboard[i][col] = 1\n",
        "\t\t\trowLookup[i] = True\n",
        "\t\t\tslashCodeLookup[slashCode[i][col]] = True\n",
        "\t\t\tbackslashCodeLookup[backslashCode[i][col]] = True\n",
        "\t\t\t\n",
        "\t\t\tif(solveNQueensUtil(board, col + 1,\n",
        "\t\t\t\t\t\t\t\tslashCode, backslashCode,\n",
        "\t\t\t\t\t\t\t\trowLookup, slashCodeLookup,\n",
        "\t\t\t\t\t\t\t\tbackslashCodeLookup)):\n",
        "\t\t\t\treturn True\n",
        "\n",
        "\t\t\tboard[i][col] = 0\n",
        "\t\t\trowLookup[i] = False\n",
        "\t\t\tslashCodeLookup[slashCode[i][col]] = False\n",
        "\t\t\tbackslashCodeLookup[backslashCode[i][col]] = False\n",
        "\t\t\t\n",
        "\treturn False\n",
        "\n",
        "def solveNQueens():\n",
        "\tboard = [[0 for i in range(N)]\n",
        "\t\t\t\tfor j in range(N)]\n",
        "\t\n",
        "\tslashCode = [[0 for i in range(N)]\n",
        "\t\t\t\t\tfor j in range(N)]\n",
        "\tbackslashCode = [[0 for i in range(N)]\n",
        "\t\t\t\t\t\tfor j in range(N)]\n",
        "\n",
        "\trowLookup = [False] * N\n",
        "\t\n",
        "\tx = 2 * N - 1\n",
        "\tslashCodeLookup = [False] * x\n",
        "\tbackslashCodeLookup = [False] * x\n",
        "\t\n",
        "\tfor rr in range(N):\n",
        "\t\tfor cc in range(N):\n",
        "\t\t\tslashCode[rr][cc] = rr + cc\n",
        "\t\t\tbackslashCode[rr][cc] = rr - cc + 7\n",
        "\t\n",
        "\tif(solveNQueensUtil(board, 0, slashCode, backslashCode,\n",
        "\t\t\t\t\t\trowLookup, slashCodeLookup,\n",
        "\t\t\t\t\t\tbackslashCodeLookup) == False):\n",
        "\t\tprint(\"Solution does not exist\")\n",
        "\t\treturn False\n",
        "\t\t\n",
        "\tprintSolution(board)\n",
        "\treturn True\n",
        "\n",
        "solveNQueens()\n",
        "\n"
      ],
      "execution_count": 3,
      "outputs": [
        {
          "output_type": "stream",
          "text": [
            "14\n",
            "1 0 0 0 0 0 0 0 0 0 0 0 0 0 \n",
            "0 0 0 0 0 0 0 0 0 0 1 0 0 0 \n",
            "0 1 0 0 0 0 0 0 0 0 0 0 0 0 \n",
            "0 0 0 0 0 0 0 1 0 0 0 0 0 0 \n",
            "0 0 1 0 0 0 0 0 0 0 0 0 0 0 \n",
            "0 0 0 0 0 0 0 0 0 0 0 1 0 0 \n",
            "0 0 0 1 0 0 0 0 0 0 0 0 0 0 \n",
            "0 0 0 0 0 0 0 0 0 0 0 0 1 0 \n",
            "0 0 0 0 0 0 0 0 0 1 0 0 0 0 \n",
            "0 0 0 0 0 1 0 0 0 0 0 0 0 0 \n",
            "0 0 0 0 0 0 0 0 0 0 0 0 0 1 \n",
            "0 0 0 0 1 0 0 0 0 0 0 0 0 0 \n",
            "0 0 0 0 0 0 1 0 0 0 0 0 0 0 \n",
            "0 0 0 0 0 0 0 0 1 0 0 0 0 0 \n"
          ],
          "name": "stdout"
        },
        {
          "output_type": "execute_result",
          "data": {
            "text/plain": [
              "True"
            ]
          },
          "metadata": {
            "tags": []
          },
          "execution_count": 3
        }
      ]
    }
  ]
}