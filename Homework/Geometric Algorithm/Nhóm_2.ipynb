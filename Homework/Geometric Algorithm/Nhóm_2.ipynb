{
  "nbformat": 4,
  "nbformat_minor": 0,
  "metadata": {
    "colab": {
      "name": "Geometric Algorithm-Nhóm 2.ipynb",
      "provenance": [],
      "authorship_tag": "ABX9TyMm+J51BHZzEoGEJHqGvPl2",
      "include_colab_link": true
    },
    "kernelspec": {
      "name": "python3",
      "display_name": "Python 3"
    },
    "language_info": {
      "name": "python"
    }
  },
  "cells": [
    {
      "cell_type": "markdown",
      "metadata": {
        "id": "view-in-github",
        "colab_type": "text"
      },
      "source": [
        "<a href=\"https://colab.research.google.com/github/CS112-L21-KHTN-N2/Homework/blob/main/Geometric%20Algorithm/Nh%C3%B3m_2.ipynb\" target=\"_parent\"><img src=\"https://colab.research.google.com/assets/colab-badge.svg\" alt=\"Open In Colab\"/></a>"
      ]
    },
    {
      "cell_type": "markdown",
      "metadata": {
        "id": "b3gIs4F4MOg6"
      },
      "source": [
        "# ĐỀ BÀI"
      ]
    },
    {
      "cell_type": "markdown",
      "metadata": {
        "id": "pmGgGYu0LhMl"
      },
      "source": [
        "Cho n điểm p0, p1, p2,…,pn-1 với tọa độ (x,y) của từng điểm. Cho đa giác tạo bởi k điểm trong n điểm  đã cho (k <= n). Hỏi đa giác đó có phải là bao lồi của tập n điểm đã cho không?\n",
        "\n",
        "*Input*: n dòng đầu là tọa độ (x,y) của từng điểm. Dòng n+1 là các chỉ số của lần lượt k điểm trong đa giác \n",
        "\n",
        "*Output*: ‘No’ hoặc ‘Yes’ \n",
        "\n",
        "Hãy trình bày giải thuật (không cần cài đặt code) và đánh giá độ phức tạp thuật toán"
      ]
    },
    {
      "cell_type": "markdown",
      "metadata": {
        "id": "SP50uN7KMSrX"
      },
      "source": [
        "# GIẢI THUẬT"
      ]
    },
    {
      "cell_type": "markdown",
      "metadata": {
        "id": "sKzHdKq8wA35"
      },
      "source": [
        "*   Chọn một điểm Po không thuộc đa giác :\n",
        "  *   Xét lần lượt các cạnh của đa giác:\n",
        "      *   Xét lần lượt các điểm Pi (ngoài 2 điểm tạo thành cạnh đang xét và Po): \n",
        "      \n",
        "          Nếu Po và Pi nằm khác phía so với cạnh đang xét -> Xuất \"No\" và kết thúc chương trình.\n",
        "  *   Nếu đã xét hết các cạnh -> Xuất \"Yes\"\n",
        "\n",
        "\n",
        "\n",
        "\n",
        "\n",
        "\n"
      ]
    },
    {
      "cell_type": "markdown",
      "metadata": {
        "id": "mswDDSrGMW2b"
      },
      "source": [
        "# ĐÁNH GIÁ ĐỘ PHỨC TẠP THUẬT TOÁN"
      ]
    },
    {
      "cell_type": "markdown",
      "metadata": {
        "id": "RROdYHHN5coD"
      },
      "source": [
        "Độ phức tạp : O(kn)"
      ]
    }
  ]
}