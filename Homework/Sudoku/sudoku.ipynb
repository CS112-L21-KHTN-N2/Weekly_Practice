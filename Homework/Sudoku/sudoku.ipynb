{
  "nbformat": 4,
  "nbformat_minor": 0,
  "metadata": {
    "colab": {
      "name": "sudoku.ipynb",
      "provenance": [],
      "collapsed_sections": [],
      "include_colab_link": true
    },
    "kernelspec": {
      "name": "python3",
      "display_name": "Python 3"
    },
    "language_info": {
      "name": "python"
    }
  },
  "cells": [
    {
      "cell_type": "markdown",
      "metadata": {
        "id": "view-in-github",
        "colab_type": "text"
      },
      "source": [
        "<a href=\"https://colab.research.google.com/github/CS112-L21-KHTN-N2/Homework/blob/main/Sudoku/sudoku.ipynb\" target=\"_parent\"><img src=\"https://colab.research.google.com/assets/colab-badge.svg\" alt=\"Open In Colab\"/></a>"
      ]
    },
    {
      "cell_type": "code",
      "metadata": {
        "id": "SlEr7pHJBaLC"
      },
      "source": [
        "def check_Row (sudoku, row, num):\n",
        "    for i in range(9):\n",
        "        if (num == sudoku[row][i]):\n",
        "            return False\n",
        "    return True\n",
        "\n",
        "def check_Col (sudoku, col, num):\n",
        "    for i in range (9):\n",
        "        if (num == sudoku[i][col]):\n",
        "            return False\n",
        "    return True\n",
        "\n",
        "def check_Square(sudoku, row, col, num):\n",
        "    for i in range (col, col + 3):\n",
        "        for j in range (row, row + 3):\n",
        "            if (num == sudoku[i][j]):\n",
        "                return False\n",
        "    return True\n",
        "\n",
        "def find_empty_location(sudoku, l):\n",
        "    for row in range(9):\n",
        "        for col in range(9):\n",
        "            if (sudoku[row][col]== 0):\n",
        "                l[0]= row\n",
        "                l[1]= col\n",
        "                return True\n",
        "    return False\n",
        "\n",
        "def check_suitable(sudoku, row, col, num):\n",
        "    if (check_Row(sudoku, row, num) and check_Col(sudoku, col, num) and check_Square(sudoku, row - row % 3, col - col % 3, num)):\n",
        "        return True\n",
        "    return False\n",
        "\n",
        "def Backtracking (sudoku):\n",
        "    \n",
        "    l =[0, 0]\n",
        "      \n",
        "    if (not find_empty_location(sudoku, l)):\n",
        "        return True\n",
        "     \n",
        "    row = l[0]\n",
        "    col = l[1]\n",
        "     \n",
        "    for num in range(1, 10):\n",
        "         \n",
        "        if (check_suitable(sudoku, row, col, num)):\n",
        "             \n",
        "            sudoku[row][col]= num\n",
        "\n",
        "            if (Backtracking(sudoku)):\n",
        "                return True\n",
        " \n",
        "            sudoku[row][col] = 0\n",
        "                  \n",
        "    return False\n",
        "\n",
        "\n",
        "lines = [line.strip().split() for line in open('sudoku.txt')]\n",
        "sudoku = [[0] * 9] * 9\n",
        "for i in range (9):\n",
        "  for j in range (9):\n",
        "    sudoku[i][j] = int(lines[i][j])\n",
        "\n",
        "if (Backtracking(sudoku)):\n",
        "    print(sudoku)\n",
        "else:\n",
        "    print('No solution')"
      ],
      "execution_count": null,
      "outputs": []
    },
    {
      "cell_type": "code",
      "metadata": {
        "colab": {
          "base_uri": "https://localhost:8080/"
        },
        "id": "Zqrxgj9sl2cP",
        "outputId": "e60ac853-5ff3-4040-afb3-49e40131496e"
      },
      "source": [
        "def check_Row (row, num):\n",
        "    for i in range(9):\n",
        "        if sudoku[row][i] == num:\n",
        "            return False\n",
        "    return True\n",
        "\n",
        "def check_Col (col, num):\n",
        "    for i in range (9):\n",
        "        if sudoku[i][col] == num:\n",
        "            return False\n",
        "    return True\n",
        "\n",
        "def check_Square(row, col, num):\n",
        "    startRow = row - row % 3\n",
        "    startCol = col - col % 3\n",
        "    for i in range (3):\n",
        "        for j in range (3):\n",
        "            if sudoku[i+startRow][j+startCol] == num:\n",
        "                return False\n",
        "    return True\n",
        "\n",
        "\n",
        "def backtracking(row, col):\n",
        "    if (row ==  8 and col == 9):\n",
        "        return True   \n",
        "    if col == 9:\n",
        "        row += 1\n",
        "        col = 0 \n",
        "    if sudoku[row][col] > 0:\n",
        "        return backtracking(row, col + 1)\n",
        "    for v in range(1, 10, 1): \n",
        "        if check_Row(row, v) and check_Col(col,v) and check_Square(row, col, v):\n",
        "            sudoku[row][col] = v\n",
        "            if backtracking(row, col+1):\n",
        "                return True \n",
        "        sudoku[row][col] = 0\n",
        "    return False\n",
        "\n",
        "sudoku = [[0] * 9] * 9\n",
        "for i in range(9):\n",
        "    sudoku[i] = list(map(int,input().split()))\n",
        "\n",
        "print(\"Solution: \")\n",
        "\n",
        "if backtracking(0,0):\n",
        "    for i in range(9):\n",
        "        for j in range(9):\n",
        "            print(sudoku[i][j], end = \" \")\n",
        "        print()\n",
        "else:\n",
        "    print(\"no solution exists\")"
      ],
      "execution_count": null,
      "outputs": [
        {
          "output_type": "stream",
          "text": [
            "3 0 6 5 0 8 4 0 0\n",
            "5 2 0 0 0 0 0 0 0\n",
            "0 8 7 0 0 0 0 3 1\n",
            "0 0 3 0 1 0 0 8 0\n",
            "9 0 0 8 6 3 0 0 5\n",
            "0 5 0 0 9 0 6 0 0\n",
            "1 3 0 0 0 0 2 5 0\n",
            "0 0 0 0 0 0 0 7 4\n",
            "0 0 5 2 0 6 3 0 0\n",
            "Solution: \n",
            "3 1 6 5 7 8 4 9 2 \n",
            "5 2 9 1 3 4 7 6 8 \n",
            "4 8 7 6 2 9 5 3 1 \n",
            "2 6 3 4 1 5 9 8 7 \n",
            "9 7 4 8 6 3 1 2 5 \n",
            "8 5 1 7 9 2 6 4 3 \n",
            "1 3 8 9 4 7 2 5 6 \n",
            "6 9 2 3 5 1 8 7 4 \n",
            "7 4 5 2 8 6 3 1 9 \n"
          ],
          "name": "stdout"
        }
      ]
    }
  ]
}