{
  "nbformat": 4,
  "nbformat_minor": 0,
  "metadata": {
    "colab": {
      "name": "Dynamic Programming_Nhóm 2.ipynb",
      "provenance": [],
      "collapsed_sections": [],
      "authorship_tag": "ABX9TyOHVMdp38WvD8sAtU2x3Fae",
      "include_colab_link": true
    },
    "kernelspec": {
      "name": "python3",
      "display_name": "Python 3"
    },
    "language_info": {
      "name": "python"
    }
  },
  "cells": [
    {
      "cell_type": "markdown",
      "metadata": {
        "id": "view-in-github",
        "colab_type": "text"
      },
      "source": [
        "<a href=\"https://colab.research.google.com/github/CS112-L21-KHTN-N2/Homework/blob/main/Dynamic%20Programming/Nh%C3%B3m_2.ipynb\" target=\"_parent\"><img src=\"https://colab.research.google.com/assets/colab-badge.svg\" alt=\"Open In Colab\"/></a>"
      ]
    },
    {
      "cell_type": "code",
      "metadata": {
        "id": "RfIklw84VNDD"
      },
      "source": [
        "def BestSum(n, sum, tmp ={}):\n",
        "    if sum in tmp:\n",
        "      return tmp[sum]\n",
        "    if sum==0:\n",
        "      return []\n",
        "    if sum<0 or n == 0:\n",
        "      return None\n",
        "    min = None\n",
        "    remain = sum - a[n-1]\n",
        "    s = BestSum(n-1, remain) \n",
        "    s_= BestSum(n-1, sum)\n",
        "    if s!= None:\n",
        "        able = [a[n-1]]+s\n",
        "        if min == None or len(min) > len(able):\n",
        "             min = able\n",
        "    if s_!= None:\n",
        "        able = s_\n",
        "        if min == None or len(min) > len(able):\n",
        "            min = able\n",
        "    if min!=None:\n",
        "        tmp[sum] = min\n",
        "    return min"
      ],
      "execution_count": null,
      "outputs": []
    },
    {
      "cell_type": "code",
      "metadata": {
        "colab": {
          "base_uri": "https://localhost:8080/"
        },
        "id": "_uT92qUlVWER",
        "outputId": "98030ee7-26a8-40a9-c8e5-ed7e7adf26f3"
      },
      "source": [
        "a = list(map(int,input().split()))\n",
        "s = int(input())\n",
        "kq = BestSum(len(a), s)\n",
        "print(kq)"
      ],
      "execution_count": null,
      "outputs": [
        {
          "output_type": "stream",
          "text": [
            "5 10 12 13 18\n",
            "30\n",
            "[18, 12]\n"
          ],
          "name": "stdout"
        }
      ]
    }
  ]
}