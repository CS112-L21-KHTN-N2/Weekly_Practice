{
  "nbformat": 4,
  "nbformat_minor": 0,
  "metadata": {
    "colab": {
      "name": "Graph.ipynb",
      "provenance": [],
      "collapsed_sections": [],
      "authorship_tag": "ABX9TyMyGSfHf1HKcjg1MF2wjC+8",
      "include_colab_link": true
    },
    "kernelspec": {
      "name": "python3",
      "display_name": "Python 3"
    },
    "language_info": {
      "name": "python"
    }
  },
  "cells": [
    {
      "cell_type": "markdown",
      "metadata": {
        "id": "view-in-github",
        "colab_type": "text"
      },
      "source": [
        "<a href=\"https://colab.research.google.com/github/CS112-L21-KHTN-N2/Homework/blob/main/Graph/Nh%C3%B3m%202.ipynb\" target=\"_parent\"><img src=\"https://colab.research.google.com/assets/colab-badge.svg\" alt=\"Open In Colab\"/></a>"
      ]
    },
    {
      "cell_type": "markdown",
      "metadata": {
        "id": "cujflBsfkKUq"
      },
      "source": [
        "# **ĐỀ BÀI**"
      ]
    },
    {
      "cell_type": "markdown",
      "metadata": {
        "id": "6CBSn1UdjsTd"
      },
      "source": [
        "Anh X có việc cần phải đi từ một điểm A đến một điểm B trong thành phố. Giữa 2 điểm đó có nhiều điểm khác nhau được nối lại để tạo thành đường đi. Mỗi con đường sẽ tốn một lượng xăng nhất định để di chuyển. Xe của anh X chỉ chứa một lượng xăng K. Hãy xuất ra màn hình có bao nhiêu cách để anh X đi từ A đến B sao cho xe của anh ta vừa hết xăng khi đến được B.  Trường hợp không có cách nào thì xuất ra -1.\n",
        "\n",
        "*Input:*\t\n",
        "* n, m là số đỉnh và số cạnh (1<n<1000; 0<m<5000).\n",
        "* Trong m dòng,  nhập u, v, w với u, v là 2 đỉnh của cạnh và w là trọng số của cạnh (-1<u,v<n;  0<w<1000).\n",
        "* A, B, K là đỉnh xuất phát, đỉnh đến và chi phí yêu cầu của đường từ A đến B (-1<A, B<n; 0<K<5000)\n",
        "\n",
        "*Output:* Số con đường từ A đến B có chi phí bằng K, đường đi không được qua 1 điểm 2 lần\n",
        "\n"
      ]
    },
    {
      "cell_type": "code",
      "metadata": {
        "id": "7r12bXHvi2-C"
      },
      "source": [
        "def find(u, v, w, set = []):\n",
        "    x = w\n",
        "    global count\n",
        "    if w > K:\n",
        "        return 0\n",
        "    set.append(v)\n",
        "    for i in range(n):\n",
        "        w = x\n",
        "        if i not in set:\n",
        "            if graph[v][i] != -1:\n",
        "                if i == u:\n",
        "                    w = w + graph[i][v]\n",
        "                    if w == K:\n",
        "                        count+=1\n",
        "                else:\n",
        "                    w = w + graph[i][v]\n",
        "                    find(u, i, w)\n",
        "    set.pop()"
      ],
      "execution_count": 1,
      "outputs": []
    },
    {
      "cell_type": "code",
      "metadata": {
        "colab": {
          "base_uri": "https://localhost:8080/"
        },
        "id": "LaTpXblNjCb5",
        "outputId": "1da1212e-8b4e-4e8a-e8fc-c2769fd93c85"
      },
      "source": [
        "n, m = map(int,input().split())\n",
        "graph = [[-1 for i in range(n)]for i in range(n)]\n",
        "for i in range(m):\n",
        "    u, v, w = map(int,input().split())\n",
        "    graph[u][v] = graph[v][u] = w\n",
        "A, B, K = map(int,input().split())\n",
        "count = 0\n",
        "\n",
        "find(A, B, 0)\n",
        "print(count)"
      ],
      "execution_count": 3,
      "outputs": [
        {
          "output_type": "stream",
          "text": [
            "6 10\n",
            "0 1 5\n",
            "0 5 8\n",
            "1 4 6\n",
            "1 3 2\n",
            "2 5 11\n",
            "2 3 1\n",
            "3 0 4\n",
            "3 4 3\n",
            "4 5 2\n",
            "5 3 5\n",
            "3 5 12\n",
            "2\n"
          ],
          "name": "stdout"
        }
      ]
    }
  ]
}