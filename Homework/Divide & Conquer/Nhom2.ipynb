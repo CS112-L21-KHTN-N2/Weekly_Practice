{
  "nbformat": 4,
  "nbformat_minor": 0,
  "metadata": {
    "colab": {
      "name": "Nhom2.ipynb",
      "provenance": [],
      "collapsed_sections": [],
      "authorship_tag": "ABX9TyMH5/eS6EtMngtxBz4HYdVg",
      "include_colab_link": true
    },
    "kernelspec": {
      "name": "python3",
      "display_name": "Python 3"
    },
    "language_info": {
      "name": "python"
    }
  },
  "cells": [
    {
      "cell_type": "markdown",
      "metadata": {
        "id": "view-in-github",
        "colab_type": "text"
      },
      "source": [
        "<a href=\"https://colab.research.google.com/github/CS112-L21-KHTN-N2/Homework/blob/main/Divide%20%26%20Conquer/Nhom2.ipynb\" target=\"_parent\"><img src=\"https://colab.research.google.com/assets/colab-badge.svg\" alt=\"Open In Colab\"/></a>"
      ]
    },
    {
      "cell_type": "markdown",
      "metadata": {
        "id": "j8lSZjlQPRid"
      },
      "source": [
        "# **ĐỀ BÀI** :"
      ]
    },
    {
      "cell_type": "markdown",
      "metadata": {
        "id": "CRPnbNO8PXc9"
      },
      "source": [
        "Tìm vị trí của phần tử lớn nhất trong mảng gồm n phần tử, sử dụng kỹ thuật Chia để trị."
      ]
    },
    {
      "cell_type": "markdown",
      "metadata": {
        "id": "lEDSjY8WPsdd"
      },
      "source": [
        "# 1. Viết chương trình"
      ]
    },
    {
      "cell_type": "code",
      "metadata": {
        "id": "20iumoqZY8X-"
      },
      "source": [
        "maxi = -9999999\n",
        "i = x = 0\n",
        "import math"
      ],
      "execution_count": null,
      "outputs": []
    },
    {
      "cell_type": "code",
      "metadata": {
        "id": "SGW6vZJcPMrg"
      },
      "source": [
        "def find_max(A):\n",
        "    global maxi, i, x\n",
        "    n = len(A)\n",
        "    root = math.ceil(n/2)\n",
        "    if root >= 2:\n",
        "        find_max(A[0:root])\n",
        "        find_max(A[root:n])\n",
        "    else:\n",
        "        if n == 0 :\n",
        "          return\n",
        "        if n == 2:\n",
        "            maxi = max(max(A[0],A[1]),maxi)\n",
        "            if maxi == A[1]:\n",
        "                i = x + 1\n",
        "        else:\n",
        "            maxi = max(maxi, A[0])\n",
        "        if maxi == A[0]:\n",
        "            i = x\n",
        "        x = x + len(A)"
      ],
      "execution_count": null,
      "outputs": []
    },
    {
      "cell_type": "code",
      "metadata": {
        "colab": {
          "base_uri": "https://localhost:8080/"
        },
        "id": "OzGCgITiZBR6",
        "outputId": "f56839b3-ae5e-42b3-d6ff-83918e2708cc"
      },
      "source": [
        "A = list(map(int,input().split()))\n",
        "find_max(A)\n",
        "print(i+1)"
      ],
      "execution_count": null,
      "outputs": [
        {
          "output_type": "stream",
          "text": [
            "5 4 3 8 7 2 1\n",
            "4\n"
          ],
          "name": "stdout"
        }
      ]
    },
    {
      "cell_type": "markdown",
      "metadata": {
        "id": "Rg50b8iOZRpC"
      },
      "source": [
        "# Giải Recurrence Relation"
      ]
    },
    {
      "cell_type": "markdown",
      "metadata": {
        "id": "YVw4zPN5zaUC"
      },
      "source": [
        "T(n) = 2T(n/2) + 2  (n > 2)\n",
        "\n",
        "T(n) = 3(n/2) - 2\n",
        "\n",
        "T(n) = O(n)"
      ]
    },
    {
      "cell_type": "markdown",
      "metadata": {
        "id": "x_QqZ93TcgPD"
      },
      "source": [
        "# So sánh với thuật toán Brute-Force"
      ]
    },
    {
      "cell_type": "markdown",
      "metadata": {
        "id": "aSZFhLtv1y80"
      },
      "source": [
        "**1. Ưu điểm**\n",
        "- Thời gian xử lý nhanh hơn.\n",
        "\n",
        "**2. Nhược điểm**\n",
        "- Tốn bộ nhớ hơn.\n",
        "\n",
        "\n",
        "\n",
        "\n",
        "\n",
        "\n",
        "\n"
      ]
    }
  ]
}