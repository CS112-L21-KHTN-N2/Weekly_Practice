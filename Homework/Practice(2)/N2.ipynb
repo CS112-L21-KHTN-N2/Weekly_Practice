{
  "nbformat": 4,
  "nbformat_minor": 0,
  "metadata": {
    "colab": {
      "name": "N2.ipynb",
      "provenance": [],
      "include_colab_link": true
    },
    "kernelspec": {
      "name": "python3",
      "display_name": "Python 3"
    },
    "language_info": {
      "name": "python"
    }
  },
  "cells": [
    {
      "cell_type": "markdown",
      "metadata": {
        "id": "view-in-github",
        "colab_type": "text"
      },
      "source": [
        "<a href=\"https://colab.research.google.com/github/CS112-L21-KHTN-N2/Homework/blob/main/Practice(2)/N2.ipynb\" target=\"_parent\"><img src=\"https://colab.research.google.com/assets/colab-badge.svg\" alt=\"Open In Colab\"/></a>"
      ]
    },
    {
      "cell_type": "markdown",
      "metadata": {
        "id": "v5i9UFoKBv92"
      },
      "source": [
        "#1. Abtraction"
      ]
    },
    {
      "cell_type": "markdown",
      "metadata": {
        "id": "G9fRsPayB4sJ"
      },
      "source": [
        "Cho 1 ma trận có giá trị 0 hoặc 1, đếm số vùng 1 (vùng chỉ có 1 số 1 hoặc có nhiều số 1 kề nhau)."
      ]
    },
    {
      "cell_type": "markdown",
      "metadata": {
        "id": "43Oys2H6C8BR"
      },
      "source": [
        "#2. Pattern Recognition"
      ]
    },
    {
      "cell_type": "markdown",
      "metadata": {
        "id": "KcLk_4MWDEMH"
      },
      "source": [
        "![image.png](data:image/png;base64,iVBORw0KGgoAAAANSUhEUgAAAWAAAAC3CAYAAAAsLYRvAAAY5klEQVR4Ae2dPasluXaG5984d+bQqSNDO2wnjUMnN7tJZxOMIwdmkoG5yYWLE+Ogg6ahoenAYPwHjP0PrrMJ54s274F3eh21SiWVStLeu56Bg2pXSVpLS68erV2nR+erT+G/X3/99dPPP//86aeffvr0448/8kMM0AAaQAMDNfCV+CvwAl02HDZdNIAG5mrgq19++YUdbuAOh6DnCpp4E+970sBX9+QsvrK40AAaeCQNAGCyX74BoQE0sEgDAHhR4B9pF2csZKVo4JgGADAAJvtBA2hgkQYA8KLAkzEcyxiIG3F7JA0AYABM9oMG0MAiDQDgRYF/pF2csZCVooFjGgDAAJjsBw2ggUUaAMCLAk/GcCxjIG7E7ZE0AIABMNkPGkADizQAgBcF/pF2ccZCVooGjmkAAANgsh80gAYWaQAALwo8GcOxjIG4EbdH0gAABsBkP2gADSzSAABeFPhH2sUZC1kpGjimAQAMgMl+0AAaWKQBALwo8GQMxzIG4kbcHkkDABgAk/2gATSwSAMAeFHgH2kXZyxkpWjgmAYAMAAm+0EDaGCRBgDwosCTMRzLGIgbcXskDQBgAEz2gwbQwCINAOBFgX+kXZyxkJWigWMaAMAAmOwHDaCBRRoAwIsCPzJj+OGHHz797vevP/3FX/7V08/f/f2rT3/+8/89W2T/8Z//9dtz1funf/6XZ8/l31n9jBzrVt9xfLrO1aupk2vHvWPZ3sq43epcnwZgLWAv+Fj+67/9e1b8MyZDtgUigWSGvRk2DMVSXGvqRF81dyUAl2zV9BPrzLjWZqNNZwu88qGmzn//z/9++uu/+dspGlKMtW5qY300jrbjNVqK0VEbbheZoDgqnn52dllrS+PPJSRn+1Pb32kAtkFN6K0MUMEGwPvZyqMBWAv9H/7xd19k/daoylIdb2DSzuuvvxmqIUP+2+++f1o3IwGsviMInRWOgLA0FTmQ2o5z0XvdYksbr7QxcjNoGQ8AvrNXEIZDaaHW1IkiAcDPNynF1vFVbEZt4ponAV4wcEZuu3F+zrje6n/E+LypRLBbk7J3xnjcR6utywLYEyCBaRL8FSiKu6VOnMjYThMT+7cdl1EUnsS90v3H7GGvTXzuMdsvlfE61vV9++sF6QXk+7GMmYb6sr9uG/vPXduf9NlZ/aT9jv6sRdmTAUf/FJuo0fjszGvPb+2ctdpWTF68fPUs83MGnOqnte+0vvpN+9S4pNmzY9lq6/IA1iRYZKnovOBVR8LXxG7V8XPVcTv3a0Ho8xkT7v57AOxxW/TyPxWP/NU9+++68Z59ScfqNqV4xDrxWr7EePpZjS3XVbnVT6yTu1Y7xSf96Yn33rzXakO+7fWVG1PrvVTnre336qda07gEyTdv3z17LbHXT83zGFtrSDH8wx//9AWYa/or1Wm1ZX9K66dk7+xn015BeOCaeA/C9xwMf451VDcX5FjH7dyP+4/tfG9FKT+cEcSFEK9zfnlRPjqAc2M/ck9x9ka31b6mTmwrnT0SgKUlbWyKg8bpz8qQ47h7rtW3Yvb+w8en+bB+dd/roKf/2PaoLbWTVuxb7HPm9d0A2BNn2D4igP0+K80Eo0g8fgloSyg1dWJbxTLG08/O6sf9zSq9KOX/ls2aOmr7KAC2tryOHBdpK73nZ0dL9SkNpxtXbcxb7LbaatV0iy9H6t4NgD2ZDmAEhu+lUBox4UeCLD8s8ij4eO1sN47B91TPdrfG6ucqa+rE+qsBLPvppqPPR19BCDa8A37+i0VrKepLGtia+6iP1mvDvlW3rXZUv9WW4nDJfwVhKJTAmauTC7D6SIGsBZuKSwI4uoijGOzX0b6OAthgikKWX3H80U9f2980Hn6elupPP+n9s/pJ+x39eSaANTfSXi5+LePcAmTsQzZkK9VDrFO6lh6ihkvro9eW2jvpkE9xDUQfrbHoV3xec11rS33tAdi8MV9q7PfUOS0D9oRJIPHHEHCgVc8O+15aJ7bPTYzF6npqr37dj/tXmfp1RLz2M+dLtLV1Lb8sRtnPXaut6nlMKvVLCwkh9Tkdv/uzffubi4frxFIxivPiZ2f14/5mlb0AVrzjPPg6N/9esLlnNeNN9WlbOQBYH7lnNbZUx33ITsln1+uxFceWajT663o5DcZ6pWv3oXGVbO0BOK6tdN2V7B99dhqAjzoQ23nB90xE7O+q144jAH7+v19HPdRAOtYvXUuvpUVfatvyzHCYsT5m2vImVqvXlpildfcArPryo7Q5pX32fAbAd/Y/YtRM9tUBbHiUFnRNnZpYGx4zoKjxKMObkZnNtKXYzQKexlXaLK2Lnsy/RjeuA4AfGMD+OpsTXPo1OwcQg7y3H4ttZmkwloBVU2fL5xibEui32rfct58zIDXTljWY02dLfGrq2lYphloD0ktuLdTYOFLnpgB8ZAC0ef7bbuJBPNDA/WgAAD9gBswCvJ8FyFxde64AMAD+7V+lAINrw4D5nz//ABgAA2A0gAYWaQAALwo82cb8bIOYE/Nb0wAABsBkP2gADSzSAABeFPhb24nxh+wQDczXAAAGwGQ/aAANLNIAAF4UeLKN+dkGMSfmt6YBAAyAyX7QABpYpAEAvCjwt7YT4w/ZIRqYrwEADIDJftAAGlikAQC8KPBkG/OzjTTmPqCldGBP2obP6+ftyBzc6lwDYAB8yezHxw5qYeYWtE8F80lwo0/I8vGPo09Wsx2Pa2v8uZi03vPpYrJVOoWstd+t+rZXGpPGP+P0tS0f0/sAGABnAZQK5dE+C7BbfzfO8DUMDesRELatb7/7/gkMtjki3uo7gtBZYQlYR/1QrCLoUttH+8218zj0F2Q0vtJ4NJcP/TfhcgHi3n1+bXvkeSsBWPBID+TWoo7wOiM2OlP49dffPP1hSUN+FIC3+s+NtXds3lQiCH1+8tmbmMaluVKZs5uORfUAMFnnJbPOdDGs/LwFYIMigtDwGvmu2Dai3TPjo/G+ePnqCVLu15ljzFT9rKdUv2mfGpfil25sPXbStgAYsALWO9GAgJCDgUHo7M2QevP23dBXBLY7CsApFP2KQOM6O7OPsfWGpljrFUEK5hSiPZ9rAGx/RsW51X/eAd8JMFonlvr51z5aeMrEthagQfj+w8cnQBvSvr/Vrjfeo/s3gFUKuB6HPwtevWNwe/WtuCmG8VuD7q8GcPQx+ub7s0sADIBPW3izxdtjz5BQRhT7cYaULk4DUsCK9c+6dv8G41n9uh9nhykADWbZd93eUn0qft683N9WzP28t/QYS3Pk+R0V59YxAGAAfNrCaxXfyvparFv/CiL3i6kRoIrjHw3grf411rN/MZYD4Qzw5ezGGOtaceCXcEDvktBLF8PKzyUAeyE7S9qCl/x3ttcLsZINx0k20szcz2pKjSe+75Xv8XPso9eW2sdsW7bjZ9symLf8cL2a0vNWyoD3AOw+0uy9xv6ROmTAbAaX3AxKANZC8kIU8PRjGKeLzPWOAsSgsx2XOQDIBz3PPUv92vrsPtRPyWfX67EVx5aDr310PZW+V1sa4I5bLHP97QHYG6H6KYG81r+9egAYADeLfk9U9/B8D8AtY9BCLwGmpa9SXcMhB5ZSuyPPZtryJra1yR3xf6vNHoDVTn6UNqetvo/cB8AA+JIANmB6F73hMQOKzkpnZGYzbSl2s4CncZU2S+uiJ/NvATEABsCXBLAWieF55Otm/OrbC/G9BWs/Z0Bqpi1tJIp9CYh7sal9blulGGojkD8zNlP7DYAB8GUB7EVAmf8308RlfFwAMAAGwGgADSzSAABeFHiyi/HZBTEmxreuAQAMgMl+0AAaWKQBALwo8Le+M+Mf2SMaGK8BAAyAyX7QABpYpAEAvCjwZBfjswtiTIxvXQMAGACT/aABNLBIAwB4UeBvfWfGP7JHNDBeAwAYAJP9oAE0sEgDAHhR4MkuxmcXxJgY37oGADAAJvtBA2hgkQYA8KLA3/rOfAX/fEDLkcN4rhCfRxrjrc41AAbAl8x+fOygFuYWaHwy2OijCX30ozaC0ZvBTFuKq08YK8V5K/6t92ts7R1H2Wqztz4ABsCbAOoV1y23F1y3/iacj5oUeF9//U3XX6DYi4GAEI9IdKY2AlgzbXkc+lP0Gt+I8Ti2LbZqDmR3vzNKAAyAAXCiAYFKP1qAyqpGZcDOwm3LC36Ezdm2FDPZ9LeIUQCWjRZbqs8f5UwEb+FR8lvrWRooZcDRhxEwdP/y4cXLV0+Q8j1nc2cfUj7TlseicjSAW20BYOB7yYwzLpRbuFbWWZPZjgSwYBtBK1v6/Obtu2evJc6I10xb0d9bA7BfL6XfOqLPM695BcGGcKkNQQtPv+iqXYAzACw46j2pffJnwessGBjA7nukrejzrQHYvlkHiofvrSgBMABeKsAVopdNLcDVGbDhFLNg+WZY6uvyWfGZaSv6bLszQFdjiwwY4J22qKLQuW57f67FuvWvIGIsR2bAAqzg62zUdmVTP/58RjnTVvS3Boqxfs91jS3eAQPgUxdWj2Cv3PYsACuz0yuNo8AUfNN/hhY/xzmSjZ5/JzzTlv3eg6Iz0q0xu5+acs+W+tgDsPuo+XZU49NeHV5BsCFcckMoAdhQFeziTw4SXrC5Z3uLz88FRtsp9eN6PXBwH7I3ypah6jHFMrdReWPJPXOMtspWW3sA9jcF+TzjtQkABsAAuFMDAkf6HncLGD33DYcjoGq1O9OWNzFtDq1+ttbfA7D6kx+lzanVZqk+AO5cfKXg8qztvezMeBkwvYve8JgBRWevMzKzmbYUu1nA07hKm6V10fMto0XHABgAD886WgQ5s67heeTrZvzq2wvxvTHbzxmQmmnLr3pKQNyLTe1z2yrFUBuBtDBjM7XfABgAXxbAXgSUt/tN5dHnBgADYACMBtDAIg0A4EWBf/SdnfGRVaKBfQ0AYABM9oMG0MAiDQDgRYEnO9jPDogRMXp0DQBgAEz2gwbQwCINAOBFgX/0nZ3xkb2igX0NAGAATPaDBtDAIg0A4EWBJzvYzw6IETF6dA0AYABM9oMG0MAiDQDgRYF/9J2d8ZG9ooF9DQBgAEz2gwbQwCINAOBFgSc72M8ORsfIB7QcOYxntG/0f64+bnWuATAAvmT242MHtTBzsPOpYILz6BOyfPSjbW35lPOz9d5MWz5dTOMqnULWOoZc/Vpbe8dR5voeeQ8AA+AsgEaK7hb6FmC3/iac4etjJg3rEccUykaEkzO1ERCeaUuxisdMprbP1ECLLc2l5l1zfKYPR/sCwAD4JoR4VMBH25UArAWdHsgtIEZQHrUb2xnsBr2f5ez72dFypi1vYHET8fnJGtvRMeTatdoCwADvVAHmRMm9/feHWwA2KCIUDS99lY5Q6Y2zfHjx8tWzbEz9y07MHnvtqP1MWxpD6r/iqXGlG1vv2FptAWAADIBvQAMCQg4Ghq1BayC+efvuCSoRzGfDw1+lZevsbDsF1UhbMbbe0BTrP/zxT1+AuTeGrbbsz5nz2DMGXkHcAAx6JpC2+9lujJEWnjKxrQVoAL//8PEJ0Ia072+1izZqrw1FlQKu+/ZnZa21fe3Vm2lL41DcFMP4rUH308x4z++950dtqV30bc/OqOcAGACftshHiXREv164yohi/86Q0sVpAAtksX7PtQAr8KZQMixls6f/2HamLfmv+Hnzsh9bMffzI2WrLc+vfDli7+w2ABgA34QQzxb2Xn8C0ta/gsj9EmwEFA31FAayr5+9MbQ8n2nLsFfM7OMo8LXaUhz4VxBA7zdhWqCUba8SeuNVArAXtcG4BS/54AzsKDBlI77vVX/xcxynbKSZeXy+dz3TlnyNmb1sx8/21WDeGrPrlcpaW+pjD8Ce+zR7L9nveUYGzGZwyc2gBGAtKC9EAU8/hnG62FyvByDq23ZK/bheDxzch+yNtuUNQ7Zy8HUsXU+l77WW7mPP1h6Avdmqn5jBt/pTWx8AA+DDoq8V2S3W2wNwi89a/CXAtPRVqms49ICq1H98NtOWN7GtTS761Xu9B2D1Lz9Km1OvD7E9AAbAlwSwAdO76A2PGVB09jojM5tpS7GbBTyNq7RZWhc93zIiYPeuATAAviSAtTAMzyNfN/3uUm17Ib63SO3nDEjNtOX35yUg7sWm9rltlWKojUDzOWMztd8AGABfFsBeBJRzfwFKvD/HGwADYACMBtDAIg0A4EWBJwv4nAUQC2JxVQ0AYABM9oMG0MAiDQDgRYG/6o7PuMl20cBnDQBgAEz2gwbQwCINAOBFgScL+JwFEAticVUNAGAATPaDBtDAIg0A4EWBv+qOz7jJdtHAZw0AYABM9oMG0MAiDQDgRYEnC/icBRALYnFVDQBgAEz2gwbQwCINAOBFgb/qjn9L4/YBLUcO47mlceDL/jeIW51rAAyAL5n9+NhBLcwtgPlksNFHE/roR20EMzYD2xt9iptPF9OYSqeQbcW/9b7tleZUY55x+lqt7wAYAG8CqFZE91hPcN36m3A+alLgff31N1/8cckzxysgRDg5UytB5Kh9byjffvf9E4RGAlgwjKBLx3l0DLl2jpn+7L1iWYpdzYHsORuj7gFgAAyAEw0IFoaTQDIqA3YWblte5CNsalPRZiIIb9m1/d7SoI8g9KamsfX2H9trLJoflTm7sa6uVY8/ypkIPg0Sn/ffaRGjvhhpsW5lwDG2I2Do/uXDi5evnsDhe87mYvboZ2eVowGsMaT+a5PRq4hRm5liA4AB66m7+1kLjn6+hLWAUAODkQBOQSVbAtebt++evZY4e/5GAzjG1pmvYq1XBCmYzxxbDYDtT/qt40w/WvriFQSbxqU2DWditQtwBoAFYr27tE/+LKC0LObaurMA/P7Dx2e/VNT4VgPYMbIOFGvfW1ECYAC8VIArRC+bWoCrM2BnbCmU0sz47BiNBrD8z71uqI350fE6niWokgEDvEsC7+iiGtVOi3X1O+AtECrr1s+osW/ZPcteDoQzwJezm45JY+eXcEB42OJKBcfnL9//KiZnAdjZ3lFgKitM/xla/BznTzbO+HfCNQDutaX2MbPXOONnj8tg3hqz69WUABiwAtY70UAJwIaqYBd/cpDwos89q4GG6ghOtlPqx/VqXp3kbBuqtuUy11+vLdmP9nLwtY+up9L3aksD3GOJZa4/MuA7WaC1AqBePsO89biUANzquxZ6CTCt/W3Vd+aaA8tWm6P3Z9ryJiboH/W3th0ABsDDRVYrxivXM2B6F73hMQOKzkpLv2Q6a05n2lLsSpn/WWNSPxrXjM2y1mf+FQQbwmU3BMNTX1tboRa/+vZCfG+x2s8ZkJppy696ZgDRtmbEcG8+43MADIAvC+C4ELi+z1dJ9z5vABgAA2A0gAYWaQAALwr8ve/c+E/GiAb6NQCAATDZDxpAA4s0AIAXBZ7soT97IIbE8N41AIABMNkPGkADizQAgBcF/t53bvwn+0QD/RoAwACY7AcNoIFFGgDAiwJP9tCfPRBDYnjvGgDAAJjsBw2ggUUaAMCLAn/vOzf+k32igX4NAGAATPaDBtDAIg0A4EWBJ3vozx6IITG8dw2cCmAfYedDkY+eEqWTi2ackKTJk4+5A6lXTKyO5XPsXN6KbyvigU0A++gaOA3AgkeEpo+1OwLhKwN4xrmyjy5qxge470UDpwBYsH3x8tXT39mKAz8K0qPtou3a61vLgAEw8KjVLvXuXyunAFgQi9mvheEsWED1AdYRML7nLFmlv3qnpevENurL9eJX9dxfO/A9+SL/Ylv34dJ1PI6a0n71HPgsn2J8auxS5/4XIXN43Tk8DcARgBZUhJ4BFQHje4ar25UyYLcRLN2X7bif9LP69b0UrmqT892+1Jb2qxfA3gRU9vRV6zf1rrv4mfv1c3+3ADZ8LaIIUsPWQFYd3xsFYPtxZqkxAuH1i+TMOaUv5jNq4DQAb72C8LthZ4gRnL4XQSnnajLg2I/aqA/7YNjGfn3vngBsn+M44uRxzWJGA/etgVMAvPVLuAhFwzaC0/dSwBwFsF8l5MDle/cE4PgOnYV23wuN+WP+cho4BcDqWGB1BqrPOXiojiFp+OpdZwrgXFs773YR5Gn9tI7hK1spgPX5jK/5tnlGXxqr+3O8PH5KFjIaeBwNnAZgiUJQjL9ESmEXQWjwqk0KYPWle7Ev1zGY4rMc9Axl13v/4eMT/FOfavyuEbz9yvnS0t7+qvSYa9pT53EWJXN5nbk8FcAzhGPQxQx4hl1sXGdRMNfM9SwNAGDOguAgFjSABhZpAAAvCvysHRY7ZHNo4HY1cHcARky3KybmhrlBA20aAMBkwHz9RANoYJEGAPCiwJMptGUKxIt4PaIGADAAJvtBA2hgkQYA8KLAP+JuzpjIUtFAmwYAMAAm+0EDaGCRBgDwosCTKbRlCsSLeD2iBgAwACb7QQNoYJEGAPCiwD/ibs6YyFLRQJsGADAAJvtBA2hgkQYA8KLAkym0ZQrEi3g9ogYAMAAm+0EDaGCRBv4fEf49awtkQTkAAAAASUVORK5CYII=)"
      ]
    },
    {
      "cell_type": "markdown",
      "metadata": {
        "id": "msgd7zFNDTaQ"
      },
      "source": [
        "Ta thấy trong ví dụ, các số 1 nằm kề nhau tạo thành 1 chùm, giống với các điểm trên 1 đồ thị kết nối với nhau => sử dụng phương pháp đồ thị để giải quyết bài toán."
      ]
    },
    {
      "cell_type": "markdown",
      "metadata": {
        "id": "_ANLDcakEhnV"
      },
      "source": [
        "#3. Decomposition"
      ]
    },
    {
      "cell_type": "markdown",
      "metadata": {
        "id": "81jdY5_2FCXl"
      },
      "source": [
        "Đã có thể giải quyết bài toán mà không cần phân rã."
      ]
    },
    {
      "cell_type": "markdown",
      "metadata": {
        "id": "j4gDuhyBFP7Y"
      },
      "source": [
        "#4. Algorithm Design"
      ]
    },
    {
      "cell_type": "markdown",
      "metadata": {
        "id": "OHTeJubJFT4k"
      },
      "source": [
        "Khi duyệt xung quanh 1 điểm, ta duyệt luôn xung quanh của xung quanh để xem có các 1 kết nối với nhau hay không, nếu có thì mark True ở ma trận visit để không duyệt điểm đó nữa."
      ]
    },
    {
      "cell_type": "code",
      "metadata": {
        "colab": {
          "base_uri": "https://localhost:8080/"
        },
        "id": "BSV4BJRhmsF1",
        "outputId": "dd9761d2-0a8b-4027-a5a6-b1a55847fa64"
      },
      "source": [
        "from collections import deque\n",
        "\n",
        "def isLand(map, i, j, vis):\n",
        "\t\n",
        "\treturn ((i >= 0) and (i < 5) and\n",
        "\t\t\t(j >= 0) and (j < 5) and\n",
        "\t\t(map[i][j] and (not vis[i][j])))\n",
        "\n",
        "def solve(map, vis, search_i, search_j):\n",
        "\t#Duyệt xung quanh điểm đang xét từ trên xuống, từ trái qua phải\n",
        "\trow = [-1, -1, -1, 0, 0, 1, 1, 1]\n",
        "\tcol = [-1, 0, 1, -1, 1, -1, 0, 1]\n",
        "\n",
        "\tq = deque()\n",
        "\tq.append([search_i, search_j])\n",
        "\tvis[search_i][search_j] = True\n",
        "  #duyệt điểm hiện tại, đồng thời duyệt luôn nếu điểm xung quanh điểm hiện tại có điểm xung quanh = 1 hay không\n",
        "\twhile (len(q) > 0):\n",
        "\t\ttemp = q.popleft()\n",
        "\n",
        "\t\ti = temp[0]\n",
        "\t\tj = temp[1]\n",
        "\n",
        "\t\tfor k in range(8):\n",
        "\t\t\tif (isLand(mat, i + row[k], j + col[k], vis)):\n",
        "\t\t\t\tvis[i + row[k]][j + col[k]] = True\n",
        "\t\t\t\tq.append([i + row[k], j + col[k]])\n",
        "\n",
        "def countIslands(map):\n",
        "\n",
        "\tvis = [[False for i in range(5)]\n",
        "\t\t\t\tfor i in range(5)]\n",
        "\n",
        "\tcount = 0\n",
        "\n",
        "\tfor i in range(5):\n",
        "\t\tfor j in range(5):\n",
        "\t\t\tif (map[i][j] and not vis[i][j]):\n",
        "\t\t\t\tsolve(map, vis, i, j)\n",
        "\t\t\t\tcount += 1\n",
        "\n",
        "\treturn count\n",
        "\t\n",
        "map = [[ 1, 1, 0, 0, 0 ],\n",
        "\t\t\t[ 0, 1, 0, 0, 1 ],\n",
        "\t\t\t[ 1, 0, 0, 1, 1 ],\n",
        "\t\t\t[ 0, 0, 0, 0, 0 ],\n",
        "\t\t\t[ 1, 0, 1, 0, 1 ]]\n",
        "\n",
        "print(countIslands(map))"
      ],
      "execution_count": null,
      "outputs": [
        {
          "output_type": "stream",
          "text": [
            "5\n"
          ],
          "name": "stdout"
        }
      ]
    },
    {
      "cell_type": "markdown",
      "metadata": {
        "id": "vzSXZdKiyg88"
      },
      "source": [
        "Độ phức tạp: O(E+V) với E là số cạnh, V là số đỉnh"
      ]
    }
  ]
}