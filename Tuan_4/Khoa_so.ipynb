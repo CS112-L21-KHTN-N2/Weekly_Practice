{
  "nbformat": 4,
  "nbformat_minor": 0,
  "metadata": {
    "colab": {
      "name": "Khoa_so.ipynb",
      "provenance": [],
      "toc_visible": true
    },
    "kernelspec": {
      "name": "python3",
      "display_name": "Python 3"
    },
    "language_info": {
      "name": "python"
    }
  },
  "cells": [
    {
      "cell_type": "markdown",
      "metadata": {
        "id": "TdX6tgh85y5w"
      },
      "source": [
        "#Khóa số"
      ]
    },
    {
      "cell_type": "markdown",
      "metadata": {
        "id": "IWRzeKDK6A9F"
      },
      "source": [
        "#1. Problem"
      ]
    },
    {
      "cell_type": "markdown",
      "metadata": {
        "id": "WiXJZRtX58qu"
      },
      "source": [
        "Để tăng độ an toàn chống hiện tượng cướp ngân hàng ngày càng phổ biến người ta dùng khóa số với mã mở khóa đơn giản nhưng rất hiệu quả. Trên cửa ra vào hiển thị một xâu khá dài các ký tự số. Các chữ số có thể di chuyển đổi chổ cho nhau hoặc bị xóa. Muốn mở khóa người ta phải di chuyển các chữ số và trong trường hợp cần thiết – xóa vài chữ số để nhận được *xâu lớn nhất* thỏa mãn điều kiện đã cài đặt. Điều kiện này được thay đổi thường xuyên. Hôm nay điều kiện đó là “Số nhận được phải chia hết cho 3”. Số nhận được có thể bắt đầu bằng các chữ số 0. Xâu “000” sẽ lớn hơn xâu “00”.\n",
        "\n",
        "Hãy xác định khóa mở cửa.\n",
        "\n",
        "***Dữ liệu:*** Vào từ thiết bị nhập chuẩn gồm một xâu ký tự số có độ dài lớn hơn 2 và không vượt quá $10^5$.\n",
        "\n",
        "***Kết quả:*** Đưa ra thiết bị xuất chuẩn xâu khóa mở cửa.\n",
        "\n",
        "Ví dụ:\n",
        "\n",
        "INPUT\n",
        "```\n",
        "105\n",
        "```\n",
        "OUTPUT\n",
        "```\n",
        "510\n",
        "```\n"
      ]
    },
    {
      "cell_type": "markdown",
      "metadata": {
        "id": "SNw7fxXU6cQf"
      },
      "source": [
        "#2.Abstraction"
      ]
    },
    {
      "cell_type": "markdown",
      "metadata": {
        "id": "iIjh75ol6f-m"
      },
      "source": [
        "Cho 1 chuỗi số, tạo 1 số lớn nhất từ những chữ số trong chuỗi và chia hết cho 3"
      ]
    },
    {
      "cell_type": "markdown",
      "metadata": {
        "id": "Jk3coWXD6gi0"
      },
      "source": [
        "#3. Algorithm Design"
      ]
    },
    {
      "cell_type": "markdown",
      "metadata": {
        "id": "QkHfs7kp6kj7"
      },
      "source": [
        "10 chữ số từ 0 - 9 được phân ra như sau:\n",
        "- chia hết cho 3: 0, 3, 6, 9\n",
        "- chia 3 dư 1: 1, 4, 7\n",
        "- chia 3 dư 2: 2, 5, 8\n",
        "\n",
        "Chuỗi số đề bài cho cũng có 3 trường hợp:\n",
        "- Tổng các số chia hết cho 3: lấy hết các số\n",
        "- Tổng các số chia 3 dư 1: loại bỏ số nhỏ nhất thuộc tập các số {1, 4, 7} trong chuỗi hoặc loại bỏ 2 số nhỏ nhất thuộc tập các số {2, 5, 8}.\n",
        "- Tổng các số chia 3 dư 2: loại bỏ số nhỏ nhất thuộc tập các số {2, 5, 8} trong chuỗi hoặc loại bỏ 2 số nhỏ nhất thuộc tập các {1, 4, 7}."
      ]
    },
    {
      "cell_type": "markdown",
      "metadata": {
        "id": "IcSZPuE-6vpE"
      },
      "source": [
        "#4. Coding\n"
      ]
    },
    {
      "cell_type": "code",
      "metadata": {
        "colab": {
          "base_uri": "https://localhost:8080/"
        },
        "id": "Pymzvolh6yNc",
        "outputId": "cc7ea6cc-6449-4bab-99a7-960c43b485ce"
      },
      "source": [
        "password = input().strip()\n",
        "\n",
        "num_sum = 0\n",
        "num = [0] * 10\n",
        "mod_one = [1, 4, 7]\n",
        "mod_two = [2, 5, 8]\n",
        "\n",
        "for c in password:\n",
        "  temp = int(c)\n",
        "  num_sum = num_sum + temp\n",
        "  num[temp] = num[temp] + 1\n",
        "\n",
        "if (num_sum % 3 == 1):\n",
        "  for x in mod_one:\n",
        "    if (num[x] > 0):\n",
        "      num[x] = num[x] - 1\n",
        "      break\n",
        "  else:\n",
        "      erase = 2\n",
        "      for x in mod_two:\n",
        "        if (num[x] >= 2):\n",
        "          num[x] = num[x] - 2\n",
        "          erase = erase - 2\n",
        "        elif (num[x] == 1):\n",
        "          num[x] = num[x] - 1\n",
        "          erase = erase - 1\n",
        "        if (erase == 0):\n",
        "          break\n",
        "elif (num_sum % 3 == 2):\n",
        "  for x in mod_two:\n",
        "    if (num[x] > 0):\n",
        "      num[x] = num[x] - 1\n",
        "      break\n",
        "  else:\n",
        "      erase = 2\n",
        "      for x in mod_one:\n",
        "        if (num[x] >= 2):\n",
        "          num[x] = num[x] - 2\n",
        "          erase = erase - 2\n",
        "        elif (num[x] == 1):\n",
        "          num[x] = num[x] - 1\n",
        "          erase = erase - 1\n",
        "        if (erase == 0):\n",
        "          break \n",
        "\n",
        "result = ''\n",
        "for i in range(10):\n",
        "  result = result + str(i) * num[i]\n",
        "\n",
        "print(result[::-1])"
      ],
      "execution_count": 16,
      "outputs": [
        {
          "output_type": "stream",
          "text": [
            "3056\n",
            "630\n"
          ],
          "name": "stdout"
        }
      ]
    }
  ]
}