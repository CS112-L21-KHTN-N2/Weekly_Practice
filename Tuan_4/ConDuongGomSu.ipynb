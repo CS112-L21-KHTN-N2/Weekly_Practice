{
  "nbformat": 4,
  "nbformat_minor": 0,
  "metadata": {
    "colab": {
      "name": "ConDuongGomSu.ipynb",
      "provenance": [],
      "collapsed_sections": []
    },
    "kernelspec": {
      "name": "python3",
      "display_name": "Python 3"
    },
    "language_info": {
      "name": "python"
    }
  },
  "cells": [
    {
      "cell_type": "markdown",
      "metadata": {
        "id": "TJuCFYDXLDje"
      },
      "source": [
        "#**NHÓM 2 : BÀI CON ĐƯỜNG GỐM SỨ**"
      ]
    },
    {
      "cell_type": "markdown",
      "metadata": {
        "id": "JZicV1zsLS16"
      },
      "source": [
        "# **ĐỀ BÀI**"
      ]
    },
    {
      "cell_type": "markdown",
      "metadata": {
        "id": "0Gfw0CV8MG_4"
      },
      "source": [
        "Sau khi bê tông hóa đê chống lụt, thành phố quyết định cho khảm lên tường bê tông của đê tranh ghép tạo bởi các mảnh gốm sứ lấy từ các lò gốm nổi tiếng trong nước. Toàn bộ con đê được chia thành n phần có độ rộng giống nhau, mỗi phần gọi là một lô. Mỗi bức tranh khảm trên đó đều phải có độ rộng giống nhau, tức là bao gồm một số như nhau các lô liên tiếp và toàn bộ tường phải được phủ kín tranh từ đầu đến cuối, mỗi lô phải được tạo màu chủ đạo (gọi là màu của lô) từ một loại gốm đặc trưng lấy từ một lò gốm nào đó trong nước, ví dụ gốm màu xanh Cô ban từ lò gốm Ánh Hồng Quảng Ninh, gốm da lươn – từ Bát Tràng Hà Nội, gốm mộc hồng nhạt – từ Biên Hòa Đồng Nai, . . . Các loại gốm này được đánh số từ 1 đến 50 000.\n",
        "\n",
        "Hướng dẫn viên du lịch giới thiệu với khách tham quan là có 2 nhóm nghệ nhân được giao việc tạo hình và khảm tranh. Với mỗi nhóm các bức tranh của đều được đặc trưng bởi dãy số (c1, c2, . . ., ck), trong đó k là độ rộng của tranh, ci – màu của lô, i = 1 ÷ k, các bức tranh khác nhau có thể khác nhau ở trình tự xuất hiện màu của các lô, ví dụ với dãy số đặc trưng (2, 6, 2, 9), trình tự màu trong tranh có thể là (9, 2, 2, 6) hoặc (6, 9, 2, 2) nhưng không thể là (6, 9, 2, 3). Dãy đặc trưng của 2 nhóm là khác nhau, tức là không thể bằng phép hoán vị trình tự màu của lô để đưa một dãy về dãy kia. Các bức tranh được ghép với nhau rất hài hòa và khách tham quan không nhận biết được sự chuyển tiếp từ tranh này sang tranh khác. Tuy vậy nhiều khách tham quan vẫn muốn biết có bao nhiêu bức tranh đã tạo ra và trong đó số bức tranh của mỗi nhóm là bao nhiêu.\n",
        "\n",
        "Hãy xác định số lượng tranh có thể có và số lượng tranh mỗi nhóm đã làm. biết rằng nhóm nào cũng có tranh của mình.\n",
        "\n",
        "**Dữ liệu:**\n",
        "\n",
        "* Dòng đầu tiên chứa một số nguyên n – số lượng lô của con đê (2 ≤ n ≤ 10^5),\n",
        "* Dòng thứ 2 chứa n số nguyên a1, a2, . . ., an – màu của các lô (1 ≤ ai ≤ 50000, i = 1 ÷ n).\n",
        "\n",
        "**Kết quả**: dòng đầu tiên chứa số nguyên m – số lượng phương án khác nhau chia con đường thành các bức tranh, nếu không có cách phân chia để đảm bảo phân biệt tranh của đúng 2 nhóm thì đưa ra số -1. Nếu có cách phân biệt thì ở mỗi dòng tiếp theo đưa ra 3 số nguyên k, p và q – độ rộng bức tranh, số tranh do nhóm 1 thực hiện và số tranh do nhóm 2 thực hiện, thông tin đưa ra theo thứ tự tăng dần của k và ở mỗi dòng có p ≥ q > 0."
      ]
    },
    {
      "cell_type": "markdown",
      "metadata": {
        "id": "PEsJbrC0LbPs"
      },
      "source": [
        "# **1. ABSTRACTION**"
      ]
    },
    {
      "cell_type": "markdown",
      "metadata": {
        "id": "ZnNDF6YiNGfS"
      },
      "source": [
        "* **Input:** số nguyên n (2 ≤ n ≤ 10^5) và n số nguyên a1, a2, ..., an(1 ≤ ai ≤ 50 000).\n",
        "* **Dữ liệu:** với k là các ước số của n (k != 1,n), chia dãy a thành 2 nhóm sao cho các phần tử của mỗi nhóm đều có tập hợp k phần tử như nhau. \n",
        "* **Output:** nếu không chia được làm 2 nhóm, xuất -1; ngược lại, xuất lần lượt số cách chia, k và số phần tử mỗi nhóm. "
      ]
    },
    {
      "cell_type": "markdown",
      "metadata": {
        "id": "iGdDlwIkLsNl"
      },
      "source": [
        "# **2. PATTERN RECOGNITION**"
      ]
    },
    {
      "cell_type": "markdown",
      "metadata": {
        "id": "KoaRra_aS1RE"
      },
      "source": [
        "Bài tập nhận biết hoán vị và chia nhóm"
      ]
    },
    {
      "cell_type": "markdown",
      "metadata": {
        "id": "m64Yd8KaL27K"
      },
      "source": [
        "# **3. ALGORITHM DESIGNED**"
      ]
    },
    {
      "cell_type": "markdown",
      "metadata": {
        "id": "YW8jMgFHS8Ao"
      },
      "source": [
        "Đầu tiên, ta tìm tập các ước số của n.\n",
        "```\n",
        "Procedure : divisor(n)\n",
        "    declare root = int(n/2)\n",
        "    declare div = []\n",
        "    declare i = 2\n",
        "    declare j = 0\n",
        "    while i <= root:\n",
        "        if n % i == 0:\n",
        "            div[j] = i\n",
        "            j = j + 1\n",
        "    return div\n",
        "\n",
        "```\n",
        "\n"
      ]
    },
    {
      "cell_type": "markdown",
      "metadata": {
        "id": "ufx_zF3GWqc9"
      },
      "source": [
        "Nhận biết hoán vị giữa 2 mảng bằng cách sắp xếp 2 mảng theo thứ tự tăng dần rồi so sánh 2 mảng với nhau.\n",
        "\n",
        "```\n",
        "Procedure : permutation(A,B)\n",
        "    sort(A)\n",
        "    sort(B)\n",
        "    if A == B:\n",
        "        return 1\n",
        "    return 0\n",
        "```\n",
        "\n"
      ]
    },
    {
      "cell_type": "markdown",
      "metadata": {
        "id": "wHxkJVt2XeUV"
      },
      "source": [
        "Với mỗi k thuộc tập ước số của n (đã tìm được ở hàm divisor(n)), thực hiện chia nhóm.\n",
        "```\n",
        "Procedure : divide_group (A, k)\n",
        "    declare x = A[0:k]\n",
        "    declare a = 1     #chia A[0:k] thuộc nhóm1, số phần tử nhóm1 = 1\n",
        "    declare b = 0     #chưa có phần tử thuộc nhóm2\n",
        "    declare i = k\n",
        "    while i < n:\n",
        "        if permutation(x, C[i:i+k]) == 0: #phần tử đang xét không thuộc nhóm1\n",
        "            if b == 0:\n",
        "                y = C[i:i+k] \n",
        "                b = 1    #nếu nhóm2 chưa có phần tử, chia C[i:i+k] vào nhóm2.\n",
        "            else:\n",
        "                if permutation(y, C[i:i+k]) == 0:\n",
        "                    return 0, 0, 0  #nếu tìm được phần tử không thuộc cả nhóm1 và nhóm2: return 0,0,0\n",
        "                else:\n",
        "                    b = b + 1\n",
        "        else:\n",
        "            a = a + 1\n",
        "        i = i + k\n",
        "    if b == 0:\n",
        "       return 0, 0, 0\n",
        "    return 1, a, b\n",
        "```\n",
        "\n",
        "\n",
        "\n",
        "\n"
      ]
    },
    {
      "cell_type": "markdown",
      "metadata": {
        "id": "UM9sqOa8cIz5"
      },
      "source": [
        "Thực hiện đối với tất cả k, tìm số trường hợp có thể có, k có thể có và a,b tương ứng với mỗi k.\n",
        "\n"
      ]
    },
    {
      "cell_type": "markdown",
      "metadata": {
        "id": "5r3Go-1NL8Mc"
      },
      "source": [
        "# **4. ĐÁNH GIÁ ĐỘ PHỨC TẠP**"
      ]
    },
    {
      "cell_type": "markdown",
      "metadata": {
        "id": "TuoJRP5Iceto"
      },
      "source": [
        "Độ phức tạp của thuật toán : O(n^2)"
      ]
    },
    {
      "cell_type": "markdown",
      "metadata": {
        "id": "B2IBiRZYMCLR"
      },
      "source": [
        "# **5. PROGRAMMING**"
      ]
    },
    {
      "cell_type": "code",
      "metadata": {
        "id": "uTWrzMxHd0NI"
      },
      "source": [
        "import math"
      ],
      "execution_count": 1,
      "outputs": []
    },
    {
      "cell_type": "code",
      "metadata": {
        "id": "xMw16vCAdR-a"
      },
      "source": [
        "def divisor(n):\n",
        "    root = math.ceil(n/2)\n",
        "    divisors = []\n",
        "    for i in range(2, root+1):\n",
        "        if n % i == 0:\n",
        "            divisors.append(i)\n",
        "    return divisors"
      ],
      "execution_count": 2,
      "outputs": []
    },
    {
      "cell_type": "code",
      "metadata": {
        "id": "M6gfAbQ_dLA_"
      },
      "source": [
        "def permutation(A, B):\n",
        "    A.sort()\n",
        "    B.sort()\n",
        "    if A == B:\n",
        "        return 1\n",
        "    return 0"
      ],
      "execution_count": 3,
      "outputs": []
    },
    {
      "cell_type": "code",
      "metadata": {
        "id": "5UwcmTAPdZrt"
      },
      "source": [
        "def divide_group(C, k):\n",
        "    b = 0\n",
        "    x = C[0:k]\n",
        "    a = 1\n",
        "    i = k\n",
        "    while i < len(C):\n",
        "        if permutation(x, C[i:i+k]) ==0:\n",
        "            if b == 0:\n",
        "                y = C[i:i+k]\n",
        "                b = 1\n",
        "            else:\n",
        "                if permutation(y, C[i:i+k]) == 0:\n",
        "                    return 0, 0, 0\n",
        "                else:\n",
        "                    b = b + 1\n",
        "        else:\n",
        "            a = a + 1\n",
        "        i = i + k\n",
        "    if b == 0:\n",
        "       return 0, 0, 0\n",
        "    return 1, a, b"
      ],
      "execution_count": 4,
      "outputs": []
    },
    {
      "cell_type": "code",
      "metadata": {
        "colab": {
          "base_uri": "https://localhost:8080/"
        },
        "id": "Qckuug2Edok8",
        "outputId": "659bad16-0b84-4c05-b7f1-9e4992b47a1b"
      },
      "source": [
        "n = int(input())\n",
        "C = list(map(int, input().split()))\n",
        "k = divisor(n)\n",
        "z=[0] * len(k)\n",
        "a=[0] * len(k)\n",
        "b=[0] * len(k)\n",
        "sotruonghop = 0\n",
        "for i in range(len(k)):\n",
        "    z[i], a[i], b[i] = divide_group(C, k[i])\n",
        "    if z[i] == 1:\n",
        "        sotruonghop = sotruonghop + 1\n",
        "if sotruonghop == 0:\n",
        "    print(-1)\n",
        "else:\n",
        "    print(sotruonghop)\n",
        "    for i in range(len(k)):\n",
        "        if z[i] == 1:\n",
        "            print(k[i],a[i],b[i])"
      ],
      "execution_count": 6,
      "outputs": [
        {
          "output_type": "stream",
          "text": [
            "9\n",
            "1 2 3 6 4 9 3 1 2\n",
            "1\n",
            "3 2 1\n"
          ],
          "name": "stdout"
        }
      ]
    }
  ]
}