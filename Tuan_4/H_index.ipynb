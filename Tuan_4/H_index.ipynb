{
  "nbformat": 4,
  "nbformat_minor": 0,
  "metadata": {
    "colab": {
      "name": "H_index.ipynb",
      "provenance": []
    },
    "kernelspec": {
      "name": "python3",
      "display_name": "Python 3"
    },
    "language_info": {
      "name": "python"
    }
  },
  "cells": [
    {
      "cell_type": "markdown",
      "metadata": {
        "id": "rhchPN9GtM1l"
      },
      "source": [
        "#H-index\n"
      ]
    },
    {
      "cell_type": "markdown",
      "metadata": {
        "id": "LzxLtcpgtXFu"
      },
      "source": [
        "#1. Problem"
      ]
    },
    {
      "cell_type": "markdown",
      "metadata": {
        "id": "t2LPOgoAtdH1"
      },
      "source": [
        "Làm thế nào để đánh giá sự thành công của một nhà khoa học?  Dựa vào số bài báo được công bố hay dựa vào số lần một bài báo được trích dẫn tới ở công trình của những người khác? Cả hai tham số đó đều quan trọng.\n",
        "\n",
        "Một bài báo có điểm số trích dẫn là c nếu nó được trích dẫn tới c lần trong các công trình của những nhà khoa học khác. Một trong số các cách đánh giá sự thành công của một nhà khoa học là tính chỉ số ảnh hưởng ***H_Index*** dựa trên sự kết hợp giữa số lượng bài báo và chỉ số trích dẫn của các bài báo đó.\n",
        "\n",
        "Chỉ số ***H_Index*** của một nhà khoa học bằng ***k*** lớn nhất nếu người đó có ***k*** bài báo, mỗi bài có điểm số trích dẫn không nhỏ hơn ***k***. Ví dụ, một người có 10 bài báo, mỗi bài báo được trích dẫn không dưới 10 lần thì ***H_Index*** của người đó ít nhất là bằng 10.\n",
        "\n",
        "Một người có ***n*** bài báo, bài báo thứ ***i*** có điểm trích dẫn là ***$c_{i}$***, ***i*** = 1 ÷ ***n***. Hãy xác định ***H_Index*** của người đó.\n",
        "\n",
        "***Dữ liệu***: Vào từ thiết bị nhập chuẩn:\n",
        "\n",
        "Dòng đầu tiên chứa một số nguyên ***n*** (1 ≤ ***n*** ≤ 5×$10^5$),\n",
        "Dòng thứ 2 chứa ***n*** số nguyên $c_{1}, c_{2}, . . ., c_{n}$ (0 ≤ $c_{i}$ ≤ $10^6$, ***i*** = 1 ÷ ***n***).\n",
        "Kết quả: Đưa ra thiết bị xuất chuẩn một số nguyên – ***H_Index*** tìm được.\n",
        "\n",
        "Ví dụ:\n",
        "\n",
        "INPUT\n",
        "```\n",
        "5\n",
        "\n",
        "8 5 3 4 10\n",
        "```\n",
        "\n",
        "OUTPUT\n",
        "```\n",
        "4\n",
        "```\n",
        " "
      ]
    },
    {
      "cell_type": "markdown",
      "metadata": {
        "id": "TIPovYP2vCcn"
      },
      "source": [
        "#2. Abstraction\n"
      ]
    },
    {
      "cell_type": "markdown",
      "metadata": {
        "id": "MZlT9zTovG5y"
      },
      "source": [
        "Tìm k lớn nhất, sao cho có nhiều hơn hoặc bằng k phần tử trong mảng lớn hơn hoặc bằng k."
      ]
    },
    {
      "cell_type": "markdown",
      "metadata": {
        "id": "bxOOMkqbvO8M"
      },
      "source": [
        "#3. Algorithm Design"
      ]
    },
    {
      "cell_type": "markdown",
      "metadata": {
        "id": "yqbdNNyU4MyZ"
      },
      "source": [
        "Sắp xếp mảng input, duyệt mảng từ phải qua trái, H_index sẽ tăng lên cho đến khi gặp phần tử bé hơn nó."
      ]
    },
    {
      "cell_type": "markdown",
      "metadata": {
        "id": "rFFhB_ELvZMl"
      },
      "source": [
        "#4. Coding"
      ]
    },
    {
      "cell_type": "code",
      "metadata": {
        "colab": {
          "base_uri": "https://localhost:8080/"
        },
        "id": "YpxHWReItJNE",
        "outputId": "e1e0b83c-19e8-4085-a7c2-393d1fd23d61"
      },
      "source": [
        "def H_index(papers):\n",
        "  count = 0\n",
        "  hindex = 0\n",
        "  papers.sort()\n",
        "  for i in range(len(papers) - 1, -1, -1):\n",
        "    count = len(papers) - i\n",
        "    if (papers[i] >= count):\n",
        "      hindex = count\n",
        "    else:\n",
        "      break\n",
        "  return hindex"
      ],
      "execution_count": 14,
      "outputs": [
        {
          "output_type": "stream",
          "text": [
            "1\n",
            "0\n"
          ],
          "name": "stdout"
        },
        {
          "output_type": "execute_result",
          "data": {
            "text/plain": [
              "0"
            ]
          },
          "metadata": {
            "tags": []
          },
          "execution_count": 14
        }
      ]
    },
    {
      "cell_type": "markdown",
      "metadata": {
        "id": "c0jOlBIZ18sA"
      },
      "source": [
        "#5. Complexity\n"
      ]
    },
    {
      "cell_type": "markdown",
      "metadata": {
        "id": "TeVO1US_3_cQ"
      },
      "source": [
        "O(n)"
      ]
    }
  ]
}