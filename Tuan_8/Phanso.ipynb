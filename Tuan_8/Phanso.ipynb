{
  "nbformat": 4,
  "nbformat_minor": 0,
  "metadata": {
    "colab": {
      "name": "Phanso.ipynb",
      "provenance": [],
      "collapsed_sections": [],
      "authorship_tag": "ABX9TyNNasoBf8b93k/bfOlgQq8S",
      "include_colab_link": true
    },
    "kernelspec": {
      "name": "python3",
      "display_name": "Python 3"
    },
    "language_info": {
      "name": "python"
    }
  },
  "cells": [
    {
      "cell_type": "markdown",
      "metadata": {
        "id": "view-in-github",
        "colab_type": "text"
      },
      "source": [
        "<a href=\"https://colab.research.google.com/github/CS112-L21-KHTN-N2/Weekly_Practice/blob/main/Tuan_8/Phanso.ipynb\" target=\"_parent\"><img src=\"https://colab.research.google.com/assets/colab-badge.svg\" alt=\"Open In Colab\"/></a>"
      ]
    },
    {
      "cell_type": "markdown",
      "metadata": {
        "id": "c0WS5goQ8_fP"
      },
      "source": [
        "#**NHÓM 2 : BÀI PHÂN SỐ**\n"
      ]
    },
    {
      "cell_type": "markdown",
      "metadata": {
        "id": "kyW47yeV9GkT"
      },
      "source": [
        "# **ĐỀ BÀI**"
      ]
    },
    {
      "cell_type": "markdown",
      "metadata": {
        "id": "A-7uV-9K9MLv"
      },
      "source": [
        "Cho 2 phân số đúng và tối giản a/b , c/d. Mỗi phép biến đổi là tăng a và b lên 1, sau đó giản ước phân số nhận được.\n",
        "\n",
        "Hãy xác định sau bao nhiêu bước biến đổi từ phân số thứ nhất ban đầu nhận được phân số thứ 2 đã cho.\n",
        "\n",
        "**Dữ liệu**: Vào từ thiết bị nhập chuẩn gồm 4 dòng, mỗi dòng chứa 1 số nguyên a, b, c, d, 0 < a < b ≤10^5, 0 < c < d ≤ 10^5, a và b nguyên tố cùng nhau, c và d nguyên tố cùng nhau a/b ≠ c/d \n",
        "\n",
        "**Kết quả**: Đưa ra thiết bị xuất chuẩn số 0 nếu không có cách biến đổi hoặc một số nguyên – số lượng phép biến đổi."
      ]
    },
    {
      "cell_type": "markdown",
      "metadata": {
        "id": "bZ7If3ys9nEN"
      },
      "source": [
        "# **1. ABSTRACTION**"
      ]
    },
    {
      "cell_type": "markdown",
      "metadata": {
        "id": "iipnrEQZ95G5"
      },
      "source": [
        "Cho 2 phân số a/b và c/d, sau mỗi lần biến đổi a và b tăng lên 1, xác định số lần biến đổi để a/b = c/d, nếu không có xuất 0."
      ]
    },
    {
      "cell_type": "markdown",
      "metadata": {
        "id": "3qKZcImr-ab7"
      },
      "source": [
        "# **2. PATTERN RECOGNITION**"
      ]
    },
    {
      "cell_type": "markdown",
      "metadata": {
        "id": "EdjydErB-ktF"
      },
      "source": [
        "Bài toán tối giản phân số"
      ]
    },
    {
      "cell_type": "markdown",
      "metadata": {
        "id": "7C0FU9Nk-pRn"
      },
      "source": [
        "# **3. ALGORITHM DESIGNED**"
      ]
    },
    {
      "cell_type": "markdown",
      "metadata": {
        "id": "gZ5lbSkg-9L9"
      },
      "source": [
        "Với 2 phân số a/b và c/d, ta thấy:\n",
        "\n",
        "*   Nếu (a*d-b*c)*(c-d) < 0 hoặc (a*d-bc) % (c-d) != 0 thì không có phép biến đổi a/b = c/d\n",
        "*   Ngược lại, lần lượt tăng a và b lên 1 rồi tối giản phân số. Cho đến khi a=c và b=d, ta được số lần biến đổi.\n",
        "\n"
      ]
    },
    {
      "cell_type": "markdown",
      "metadata": {
        "id": "0AJrNO44_u-n"
      },
      "source": [
        "# **4. ĐÁNH GIÁ ĐỘ PHỨC TẠP**\n"
      ]
    },
    {
      "cell_type": "markdown",
      "metadata": {
        "id": "rMvMRLoZBKA7"
      },
      "source": [
        "# **5. PROGRAMMING**"
      ]
    },
    {
      "cell_type": "code",
      "metadata": {
        "id": "yzRWcnu1BOkR"
      },
      "source": [
        "import math\n",
        "def Toigian(a, b):\n",
        "    ucnn = math.gcd(a,b)\n",
        "    a = a//ucnn\n",
        "    b = b//ucnn\n",
        "    return a, b"
      ],
      "execution_count": 1,
      "outputs": []
    },
    {
      "cell_type": "code",
      "metadata": {
        "colab": {
          "base_uri": "https://localhost:8080/"
        },
        "id": "ZZO-37mbBYke",
        "outputId": "4d6e7a53-cfd6-46d0-9746-0ead3ff0b3e8"
      },
      "source": [
        "a = int(input())\n",
        "b = int(input())\n",
        "c = int(input())\n",
        "d = int(input())\n",
        "if c == d or a==b :\n",
        "    print(0)\n",
        "else:\n",
        "    if (a*d-b*c)*(c-d)<0 or (a*d-b*c)%(c-d)!= 0:\n",
        "        print(0)\n",
        "    else:\n",
        "        dem = 0\n",
        "        while(a!=c or b!=d):\n",
        "            a += 1\n",
        "            b += 1\n",
        "            a, b = Toigian(a,b)\n",
        "            dem +=1\n",
        "            if dem > 1000000:\n",
        "                break\n",
        "        if dem > 1000000:\n",
        "            print(0)\n",
        "        else:\n",
        "            print(dem)"
      ],
      "execution_count": 2,
      "outputs": [
        {
          "output_type": "stream",
          "text": [
            "1\n",
            "6\n",
            "2\n",
            "3\n",
            "5\n"
          ],
          "name": "stdout"
        }
      ]
    }
  ]
}