{
  "nbformat": 4,
  "nbformat_minor": 0,
  "metadata": {
    "colab": {
      "name": "code.ipynb",
      "provenance": [],
      "collapsed_sections": [],
      "include_colab_link": true
    },
    "kernelspec": {
      "name": "python3",
      "display_name": "Python 3"
    },
    "language_info": {
      "name": "python"
    }
  },
  "cells": [
    {
      "cell_type": "markdown",
      "metadata": {
        "id": "view-in-github",
        "colab_type": "text"
      },
      "source": [
        "<a href=\"https://colab.research.google.com/github/CS112-L21-KHTN-N2/Seminar/blob/main/code%2BHuffman.ipynb\" target=\"_parent\"><img src=\"https://colab.research.google.com/assets/colab-badge.svg\" alt=\"Open In Colab\"/></a>"
      ]
    },
    {
      "cell_type": "markdown",
      "metadata": {
        "id": "ks_pc85S_pmr"
      },
      "source": [
        "# ACTIVITY - SELECTION PROBLEM"
      ]
    },
    {
      "cell_type": "code",
      "metadata": {
        "colab": {
          "base_uri": "https://localhost:8080/"
        },
        "id": "mJdY_l8j_yXw",
        "outputId": "0325252e-801d-4ba5-e6d7-2f45e20b7050"
      },
      "source": [
        "def MaxActivities(arr, n):\n",
        "    selected = []\n",
        "     \n",
        "    # B1: Sắp xếp công việc theo thời gian kết thúc tăng dần\n",
        "    Activity.sort(key = lambda x : x[1])\n",
        "     \n",
        "    # B2: Chọn ra công việc đầu tiên\n",
        "    i = 0\n",
        "    selected.append(arr[i])\n",
        " \n",
        "    for j in range(1, n):\n",
        "       \n",
        " #B3: Nếu công việc này có thời gian bắt đầu lớn hơn hoặc bằng thời gian kết\n",
        "#thúc của công việc đã được chọn trước đó thì thêm công việc vào dãy selected\n",
        "      if arr[j][0] >= arr[i][1]:\n",
        "          selected.append(arr[j])\n",
        "          i = j\n",
        "    return selected\n",
        " \n",
        "# main\n",
        "Activity = [[0, 6], [3, 4], [1, 2], [5, 9],[5, 7], [8, 9]]\n",
        "n = len(Activity)\n",
        "selected = MaxActivities(Activity, n)\n",
        "print(\"Các công việc được chọn :\")\n",
        "print(selected)"
      ],
      "execution_count": null,
      "outputs": [
        {
          "output_type": "stream",
          "text": [
            "Các công việc được chọn :\n",
            "[[1, 2], [3, 4], [5, 7], [8, 9]]\n"
          ],
          "name": "stdout"
        }
      ]
    },
    {
      "cell_type": "markdown",
      "metadata": {
        "id": "YvFqxCU4AWtY"
      },
      "source": [
        "# PRIM'S ALGORITHM FOR MST"
      ]
    },
    {
      "cell_type": "code",
      "metadata": {
        "colab": {
          "base_uri": "https://localhost:8080/"
        },
        "id": "DG64OOFvS0Hy",
        "outputId": "7abfe751-aecf-47d3-ff7b-a242b171321f"
      },
      "source": [
        "import sys  \n",
        "  \n",
        "class Graph(): \n",
        "  \n",
        "    def __init__(self, vertices): \n",
        "        self.V = vertices \n",
        "        self.graph = [[0 for column in range(vertices)]  \n",
        "                    for row in range(vertices)] \n",
        "  \n",
        "    # Hàm in ra cây khung \n",
        "    def printMST(self, parent): \n",
        "        print (\"Edge \\tWeight\")\n",
        "        for i in range(1, self.V): \n",
        "            print (parent[i], \"-\", i, \"\\t\", self.graph[i][ parent[i] ] )\n",
        "  \n",
        "    # Hàm tìm đỉnh có key nhỏ nhất và chưa có trong mstSet\n",
        "    def minKey(self, key, mstSet): \n",
        "  \n",
        "        #Khởi tạo giá trị min\n",
        "        min = sys.maxsize\n",
        "  \n",
        "        for v in range(self.V): \n",
        "            if key[v] < min and mstSet[v] == False: \n",
        "                min = key[v] \n",
        "                min_index = v \n",
        "  \n",
        "\n",
        "        return min_index \n",
        "  \n",
        "    def primMST(self): \n",
        "        #B1 : Tạo mảng lưu đỉnh đã có trong mstSet\n",
        "        mstSet = [False] * self.V \n",
        "  \n",
        "        # B2: Tạo mảng lưu giá trị key, key[0] = 0, còn lại = ∞\n",
        "        key = [sys.maxsize] * self.V  \n",
        "        key[0] = 0 \n",
        "        # Để lưu đỉnh cha\n",
        "        parent = [None] * self.V \n",
        "        parent[0] = -1 \n",
        "  \n",
        "        for cout in range(self.V): \n",
        "  \n",
        "            # B3a: Chọn u chưa có trong mstSet có key nhỏ nhất \n",
        "            u = self.minKey(key, mstSet) \n",
        "  \n",
        "            # B3b: Thêm u vào mstSet\n",
        "            mstSet[u] = True\n",
        "  \n",
        "            # B3c:\n",
        "            for v in range(self.V): \n",
        "                if self.graph[u][v] > 0 and mstSet[v] == False and key[v] > self.graph[u][v]: \n",
        "                        key[v] = self.graph[u][v] \n",
        "                        parent[v] = u \n",
        "  \n",
        "        self.printMST(parent) \n",
        "  \n",
        "g = Graph(5) \n",
        "g.graph = [ [0, 0, 0, 3, 12], \n",
        "            [0, 0, 2, 5, 0], \n",
        "            [0, 2, 0, 3, 7], \n",
        "            [3, 5, 3, 0, 0], \n",
        "            [12, 0, 7, 0, 0]] \n",
        "  \n",
        "g.primMST();\n"
      ],
      "execution_count": null,
      "outputs": [
        {
          "output_type": "stream",
          "text": [
            "Edge \tWeight\n",
            "2 - 1 \t 2\n",
            "3 - 2 \t 3\n",
            "0 - 3 \t 3\n",
            "2 - 4 \t 7\n"
          ],
          "name": "stdout"
        }
      ]
    },
    {
      "cell_type": "markdown",
      "metadata": {
        "id": "klGkTPVPTqOA"
      },
      "source": [
        "# Fractional Knapsack Problem"
      ]
    },
    {
      "cell_type": "code",
      "metadata": {
        "colab": {
          "base_uri": "https://localhost:8080/"
        },
        "id": "KhhLDf-oT5_a",
        "outputId": "b5167cd1-adce-4886-9448-3fb03473646f"
      },
      "source": [
        "class ItemValue:\n",
        "    def __init__(self, wt, val, ind):\n",
        "        self.wt = wt\n",
        "        self.val = val\n",
        "        self.ind = ind\n",
        "        self.ratio = val // wt\n",
        " \n",
        "    def __lt__(self, other):\n",
        "        return self.ratio < other.ratio\n",
        "\n",
        "class FractionalKnapSack:\n",
        "    def getMaxValue(wt, val, capacity):\n",
        "        iVal = []\n",
        "        #B1 : Tính tỉ lệ ratio = val/wt\n",
        "        for i in range(len(wt)):\n",
        "            iVal.append(ItemValue(wt[i], val[i], i))\n",
        "        # B2 : sắp xếp theo giá trị ratio\n",
        "        iVal.sort(reverse=True)\n",
        " \n",
        "        totalValue = 0\n",
        "        for i in iVal:\n",
        "            curWt = int(i.wt)\n",
        "            curVal = int(i.val)\n",
        "            # B3 : lấy nguyên các món đồ có tỉ lệ lớn\n",
        "            if capacity - curWt >= 0:\n",
        "                capacity -= curWt\n",
        "                totalValue += curVal\n",
        "            #B4 : khi không thể lấy nguyên món đồ, lấy phần có thể lấy\n",
        "            else:\n",
        "                fraction = capacity / curWt\n",
        "                totalValue += curVal * fraction\n",
        "                capacity = int(capacity - (curWt * fraction))\n",
        "                break\n",
        "        return totalValue\n",
        " \n",
        " \n",
        "# main\n",
        "if __name__ == \"__main__\":\n",
        "    wt = [3, 4, 5, 7, 1]\n",
        "    val = [21, 16, 80, 14, 10]\n",
        "    capacity = 10\n",
        " \n",
        "    maxValue = FractionalKnapSack.getMaxValue(wt, val, capacity)\n",
        "    print(\"Giá trị lớn nhất túi có thể lấy: \", maxValue)\n",
        " \n"
      ],
      "execution_count": null,
      "outputs": [
        {
          "output_type": "stream",
          "text": [
            "Giá trị lớn nhất túi có thể lấy:  115.0\n"
          ],
          "name": "stdout"
        }
      ]
    },
    {
      "cell_type": "markdown",
      "metadata": {
        "id": "6sea-mtCkvUE"
      },
      "source": [
        "#HUFFMAN CODING"
      ]
    },
    {
      "cell_type": "code",
      "metadata": {
        "id": "R_4KSR72ku6P"
      },
      "source": [
        "#source: https://www.geeksforgeeks.org/huffman-coding-greedy-algo-3/\n",
        "# A Huffman Tree Node\n",
        "class node:\n",
        "\tdef __init__(self, freq, symbol, left=None, right=None):\n",
        "\t\t# frequency of symbol\n",
        "\t\tself.freq = freq\n",
        "\n",
        "\t\t# symbol name (charecter)\n",
        "\t\tself.symbol = symbol\n",
        "\n",
        "\t\t# node left of current node\n",
        "\t\tself.left = left\n",
        "\n",
        "\t\t# node right of current node\n",
        "\t\tself.right = right\n",
        "\n",
        "\t\t# tree direction (0/1)\n",
        "\t\tself.huff = ''\n",
        "\n",
        "# utility function to print huffman\n",
        "# codes for all symbols in the newly\n",
        "# created Huffman tree\n",
        "\n",
        "\n",
        "def printNodes(node, val=''):\n",
        "\t# huffman code for current node\n",
        "\tnewVal = val + str(node.huff)\n",
        "\n",
        "\t# if node is not an edge node\n",
        "\t# then traverse inside it\n",
        "\tif(node.left):\n",
        "\t\tprintNodes(node.left, newVal)\n",
        "\tif(node.right):\n",
        "\t\tprintNodes(node.right, newVal)\n",
        "\n",
        "\t\t# if node is edge node then\n",
        "\t\t# display its huffman code\n",
        "\tif(not node.left and not node.right):\n",
        "\t\tprint(f\"{node.symbol} -> {newVal}\")\n",
        "\n",
        "\n",
        "# charecters for huffman tree\n",
        "chars = ['a', 'b', 'c', 'd', 'e', 'f']\n",
        "\n",
        "# frequency of charecters\n",
        "freq = [ 5, 9, 12, 13, 16, 45]\n",
        "\n",
        "# list containing unused nodes\n",
        "nodes = []\n",
        "\n",
        "# converting ccharecters and frequencies\n",
        "# into huffman tree nodes\n",
        "for x in range(len(chars)):\n",
        "\tnodes.append(node(freq[x], chars[x]))\n",
        "\n",
        "while len(nodes) > 1:\n",
        "\t# sort all the nodes in ascending order\n",
        "\t# based on theri frequency\n",
        "\tnodes = sorted(nodes, key=lambda x: x.freq)\n",
        "\n",
        "\t# pick 2 smallest nodes\n",
        "\tleft = nodes[0]\n",
        "\tright = nodes[1]\n",
        "\n",
        "\t# assign directional value to these nodes\n",
        "\tleft.huff = 0\n",
        "\tright.huff = 1\n",
        "\n",
        "\t# combine the 2 smallest nodes to create\n",
        "\t# new node as their parent\n",
        "\tnewNode = node(left.freq+right.freq, left.symbol+right.symbol, left, right)\n",
        "\n",
        "\t# remove the 2 nodes and add their\n",
        "\t# parent as new node among others\n",
        "\tnodes.remove(left)\n",
        "\tnodes.remove(right)\n",
        "\tnodes.append(newNode)\n",
        "\n",
        "# Huffman Tree is ready!\n",
        "printNodes(nodes[0])\n"
      ],
      "execution_count": null,
      "outputs": []
    }
  ]
}
