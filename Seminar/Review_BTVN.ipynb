{
  "nbformat": 4,
  "nbformat_minor": 0,
  "metadata": {
    "colab": {
      "name": "Review.ipynb",
      "provenance": [],
      "collapsed_sections": [],
      "toc_visible": true,
      "include_colab_link": true
    },
    "kernelspec": {
      "name": "python3",
      "display_name": "Python 3"
    },
    "language_info": {
      "name": "python"
    }
  },
  "cells": [
    {
      "cell_type": "markdown",
      "metadata": {
        "id": "view-in-github",
        "colab_type": "text"
      },
      "source": [
        "<a href=\"https://colab.research.google.com/github/CS112-L21-KHTN-N2/Seminar/blob/main/Review_BTVN.ipynb\" target=\"_parent\"><img src=\"https://colab.research.google.com/assets/colab-badge.svg\" alt=\"Open In Colab\"/></a>"
      ]
    },
    {
      "cell_type": "markdown",
      "metadata": {
        "id": "_rd_EjfwJgDb"
      },
      "source": [
        "# **ĐÁNH GIÁ BÀI TẬP VỀ NHÀ**"
      ]
    },
    {
      "cell_type": "markdown",
      "metadata": {
        "id": "S8t_evMDJl6y"
      },
      "source": [
        "# **Nhóm 1**"
      ]
    },
    {
      "cell_type": "markdown",
      "metadata": {
        "id": "nVF8VlOaJpxX"
      },
      "source": [
        "**Câu 1** :\n",
        "Bắt đầu từ một đỉnh tùy ý của đồ thị, nối đỉnh đó với một đỉnh thứ hai sao cho trọng số của cạnh nối hai đỉnh trên là nhỏ nhất. Tiếp theo, từ một trong hai đỉnh đó,tìm cạnh có độ dài nhỏ nhất, điều này dẫn tới một đỉnh thứ ba và như vậy chúng ta đã thu được một cây bộ phận gồm 3 đỉnh và 2 cạnh. Quá trình này được tiếp tục cho tới khi ta nhận được cây gồm n-1 cạnh, đó chính là cây khung nhỏ nhất cần tìm. Dễ dàng chứng minh bằng quy nạp, những cạnh nhỏ nhất chọn ra trong thuật toán Prim sẽ luôn là nhỏ nhất với cây khung.\n",
        "\n",
        "\n",
        "\n"
      ]
    },
    {
      "cell_type": "markdown",
      "metadata": {
        "id": "j_1kJFw6aYhI"
      },
      "source": [
        "**=> Chưa chỉ ra 2 đặc tình của thuật toán tham lam.**"
      ]
    },
    {
      "cell_type": "markdown",
      "metadata": {
        "id": "Php6expwYo0J"
      },
      "source": [
        "**Câu 2**: \n",
        "\n",
        "\n",
        "*   Tại mỗi lần lặp của vòng lặp while, chúng ta thêm một hoạt động mới vào S. Điều này có thể được lặp lại nhiều nhất cho tất cả activities trong A, tức là cho nhiều nhất n lần lặp.\n",
        "*   Gọi Sh là nghiệm ở lần lặp thứ h. Gọi m là tổng số lần lặp của vòng lặp while, do đó h = 0 ,. . . , m. Chúng ta cần chứng minh rằng ∀h = 0 ,. . . , m tồn tại một giải pháp tối ưu S* sao cho Sh ⊆ S*. (Dễ dàng chứng minh bằng quy nạp)\n"
      ]
    },
    {
      "cell_type": "markdown",
      "metadata": {
        "id": "i_iAhXH6gvDt"
      },
      "source": [
        "**=> Trả lời tốt, chứng minh rõ ràng.**"
      ]
    },
    {
      "cell_type": "markdown",
      "metadata": {
        "id": "bO5sB3JzKYNT"
      },
      "source": [
        "# **Nhóm 3**"
      ]
    },
    {
      "cell_type": "markdown",
      "metadata": {
        "id": "lSmxdXbTSLdw"
      },
      "source": [
        "**Câu 1:** Chứng minh bài toán tìm cây khung nhỏ nhất sử dụng thuật toán Prim có đặc điểm nhận dạng của thuật toán tham lam.\n",
        "\n",
        "- Có cấu trúc con tối ưu: Mỗi lần thêm một đỉnh mới vào mstSet thì ta luôn được 1 cây khung nhỏ nhất của các đỉnh đó. Thuật toán dừng lại khi tất cả các đỉnh đã được thêm vào mstSet.\n",
        "- Có đặc tính tham lam: Khi đã thêm một đỉnh vào mstSet thì ta sẽ không xét tới đỉnh đó nữa tại các lần duyệt cạnh sau.\n"
      ]
    },
    {
      "cell_type": "markdown",
      "metadata": {
        "id": "fyyv0obzagAi"
      },
      "source": [
        "**=> Trả lời tốt, làm rõ được nội dung.**\n",
        "\n",
        "\n"
      ]
    },
    {
      "cell_type": "markdown",
      "metadata": {
        "id": "jggz_5PHTl2B"
      },
      "source": [
        "**Câu 2:** Chứng minh thuật toán tham lam áp dụng cho activity selection sẽ ra kết quả tối ưu (the correctness of greedy algorithms).\n",
        "\n",
        "Ta phải sắp xếp lại các hoạt động theo thứ tự tăng dần của thời gian kết thúc trước khi thực hiện thuật toán tham lam.\n",
        "\n",
        "Khi thực hiện thuật toán tham lam cho bài toán này, có 2 trường hợp xảy ra:\n",
        "- TH1: Các hoạt động không trùng thời gian hoạt động với nhau thì ta chỉ cần chọn hoạt động đó.\n",
        "- TH2: Nếu một số hoạt động có trùng thời gian với nhau, thì lựa chọn tối ưu nhất là chọn hoạt động có thời gian hoàn thành là ngắn nhất.  "
      ]
    },
    {
      "cell_type": "markdown",
      "metadata": {
        "id": "gMNT1fJ3g1sZ"
      },
      "source": [
        "**=> Trả lời tốt.**"
      ]
    },
    {
      "cell_type": "markdown",
      "metadata": {
        "id": "v9fCTtmsKq36"
      },
      "source": [
        "# **Nhóm 4**"
      ]
    },
    {
      "cell_type": "markdown",
      "metadata": {
        "id": "9HLV17TRhZl7"
      },
      "source": [
        "**1. Chứng minh bài toán tìm cây khung nhỏ nhất sử dụng thuật toán Prim có đặc điểm nhận dạng của thuật toán tham lam.**\n",
        "\n",
        "> Thuật toán tham lam có 2 đặc điểm nhận dạng: \n",
        "\n",
        "> * Có đặc tính tham lam: Chọn giải pháp tốt nhất hiện tại, không xem xét lại lựa chon của mình.\n",
        "\n",
        "> * Có cấu trúc con tối ưu: Lời giải tối ưu của các bài toán con sẽ dẫn đến lời giải tối ưu của cả bài toán.\n",
        "\n",
        "> Xét thuật toán Prim cho bài toán tìm cây khung nhỏ nhất:\n",
        "\n",
        "> >  Thuật toán xuất phát từ một cây chỉ chứa đúng một đỉnh và mở rộng từng bước một, mỗi bước thêm một cạnh mới vào cây, cho tới khi bao trùm được tất cả các đỉnh của đồ thị.\n",
        "\n",
        "> * Dữ liệu vào: Một đồ thị có trọng số liên thông với tập hợp đỉnh $V$ và tập hợp cạnh $E$ (trọng số có thể âm). Đồng thời cũng dùng $V$ và $E$ để ký hiệu số đỉnh và số cạnh của đồ thị.\n",
        "\n",
        "> * Khởi tạo: $V_{new} = {x}$, trong đó $x$ là một đỉnh bất kì (đỉnh bắt đầu) trong $V$, $E_{new} =$ {}\n",
        "\n",
        "> * Lặp lại cho tới khi $V_{new} = V$:\n",
        ">  * Chọn cạnh $(u, v)$ có trọng số nhỏ nhất thỏa mãn $u$ thuộc $V_{new}$ và $v$ không thuộc $V_{new}$ (nếu có nhiều cạnh như vậy thì chọn một cạnh bất kì trong chúng)\n",
        ">  * Thêm $v$ vào $V_{new}$, và thêm cạnh $(u, v)$ vào $E_{new}$\n",
        "\n",
        "> >  $\\rightarrow$ *Đặc tính tham lam*\n",
        "\n",
        "> * Dữ liệu ra: $V_{new}$ và $E_{new}$ là tập hợp đỉnh và tập hợp cạnh của một cây bao trùm nhỏ nhất\n",
        "> > $\\rightarrow$ *Cấu trúc con tối ưu*\n",
        "\n",
        "*$\\rightarrow$ Bài toán tìm cây khung nhỏ nhất sử dụng thuật toán Prim có đặc điểm nhận dạng của thuật toán tham lam*\n",
        "\n",
        "\n"
      ]
    },
    {
      "cell_type": "markdown",
      "metadata": {
        "id": "-6tt85fEa_kv"
      },
      "source": [
        "**=> Trả lời tốt, làm rõ được nội dung.**\n"
      ]
    },
    {
      "cell_type": "markdown",
      "metadata": {
        "id": "M-DhxUMWYvRm"
      },
      "source": [
        "**2. Chứng minh thuật toán tham lam áp dụng cho activity selection sẽ ra kết quả tối ưu (the correctness of greedy algorithms)**\n",
        "\n",
        "Trước khi thực hiện thuật toán tham lam, ta đã sắp xếp lại các hoạt động, theo thứ tự tăng dần thời gian hoàn thành.\n",
        "\n",
        "Vì vậy, khi thực hiện thuật thuật toán tham lam, có 2 trường hợp xảy ra:\n",
        "\n",
        "TH1: các hoạt động không trùng thời gian với nhau:$\\rightarrow$ chỉ cần chọn hoạt động đó.\n",
        "\n",
        "TH2: Một số hoạt động trùng thời gian với nhau: khi đó ta chỉ có thể chọn hoạt động có thời gian hoàn thành ngắn nhất trong các hoạt động trùng nhau đó. Trải qua quá trình thực hiện, các lựa chọn sẽ tối ưu.\n"
      ]
    },
    {
      "cell_type": "markdown",
      "metadata": {
        "id": "n6N4RdaUg6dx"
      },
      "source": [
        "**=> Trả lời tốt.**"
      ]
    },
    {
      "cell_type": "markdown",
      "metadata": {
        "id": "GLsOXNYPK72u"
      },
      "source": [
        "# **Nhóm 5**"
      ]
    },
    {
      "cell_type": "markdown",
      "metadata": {
        "id": "LauJu7u7uj9A"
      },
      "source": [
        "**Câu 1:** Chứng minh bài toán tìm cây khung nhỏ nhất sử dụng thuật toán Prim có đặc điểm nhận dạng của thuật toán tham lam.\n",
        "- Tính chất lựa chọn tham lam: Mỗi đỉnh được chọn thêm vào mstSet theo cách tìm kiếm lựa chọn tối ưu địa phương ở mỗi bước đi với hy vọng tìm được tối ưu toàn cục.\n",
        "- Cấu trúc con tối ưu: cây khung tối ưu cuối cùng chứa lời giải tối ưu của những cây khung con."
      ]
    },
    {
      "cell_type": "markdown",
      "metadata": {
        "id": "bDy7DqxHbDE_"
      },
      "source": [
        "**=> Trả lời tốt, làm rõ được nội dung.**"
      ]
    },
    {
      "cell_type": "markdown",
      "metadata": {
        "id": "oRZNWwiRxAFa"
      },
      "source": [
        "**Câu 2:** Chứng minh thuật toán tham lam áp dụng cho activity selection sẽ ra kết quả tối ưu (the correctness of greedy algorithms).\n",
        "\n",
        "Nếu như ta có mảng các hoạt động S = {1, 2, 3, …n} được sắp xếp theo thời gian hoàn thành. Thuật toán tham lam sẽ luôn chọn hoạt động 1.\n",
        "\n",
        "Giả sử ta có một thuật toán B chọn hoạt động đầu tiên không phải là 1, thì ta cũng sẽ có một thuật toán A có cùng số lượng phần tử có hoạt động đầu tiên là 1. \n",
        "\n",
        "Ta có: B[0] = k  => A = {B – k} $\\cup$ {1}"
      ]
    },
    {
      "cell_type": "markdown",
      "metadata": {
        "id": "PbztTtvcg-pv"
      },
      "source": [
        "**=> Chưa làm rõ nội dung.**"
      ]
    },
    {
      "cell_type": "markdown",
      "metadata": {
        "id": "R_yen3EEZDPP"
      },
      "source": [
        "# **NHÓM 6**"
      ]
    },
    {
      "cell_type": "markdown",
      "metadata": {
        "id": "J_E9ysWNZHNt"
      },
      "source": [
        "**1. Prove that Prim's Minimum Spanning Tree Algorithm has features of Greedy Algorithm.**\n",
        "\n",
        "**Properties of Greedy Algorithms:**\n",
        "\n",
        "Problems that can be solved by greedy algorithms have two main properties:\n",
        "\n",
        "* Optimal Substructure: the optimal solution to a problem incorporates the optimal solution to subproblem(s)\n",
        "* Greedy choice property: locally optimal choices lead to a globally optimal solution\n",
        "\n",
        "We can see how these properties can be applied to the MST problem:\n",
        "\n",
        "**Optimal substructure for MST:**\n",
        "\n",
        "Consider an edge e = {u, v}, which is an edge of some MST. Then we can contract e by merging the vertices u and v to create a new vertex. Then any edge adjacent to vertex u or v is adjacent to the newly created vertex, and the process could result in a multiedge if u and v have a mutual neighbor. We resolve the multiedge problem by creating a single edge with the minimum weight between the two edges. This leads us to the following lemma:\n",
        "* Lemma 1. If T' is a minimum spanning tree of G/e, then T' ∪ {e} is an MST of G. Proof. Let T∗ be an MST of G containing the edge e. Then T∗/e is a spanning tree of G' = G/{e}. By definition, T' is an MST of G' . Thus the total weight of T' is less than or equal to that of T∗/e, or w(T' ) ≤ w(T∗/e). Then w(T) = w(T' ) + w(e) ≤ w(T∗ /e) + w(e) = w(T' ) .\n",
        "\n",
        "The statement can be used as the basis for a dynamic programming algorithm, in which we guess an edge that belongs to the MST, retract the edge, and recurse. At the end, we decontract the edge and add e to the MST.\n",
        "\n",
        "The lemma guarantees that this algorithm is correct. However, this algorithm is requires exponential time, because there are an exponential number of edges that we can guess to form our MST.\n",
        "We make the algorithm polynomial time by removing the guessing process.\n",
        "\n",
        "**Greedy Choice Property**\n",
        "\n",
        "The MST problem can be solved by a greedy algorithm because the the locally optimal solution is also the globally optimal solution. This fact is described by the GreedyChoice Property for MSTs, and its proof of correctness is given via a “cut and paste” argument common for greedy proofs. Lemma 2 (Greedy-Choice Property for MST). For any cut (S, V \\ S) in a graph G = (V, E,w), any least-weight crossing edge e = {u, v} with u ∈ S and v /∈ S is in some MST of G.\n",
        "\n",
        "Proof: First, consider an MST T of G. Then T has a path from u to v. Because u ∈ S and v /∈ S, the path has some edge e' = {u' , v' } which also crosses the cut. Then T' = T \\ {e' }∪{e} is a spanning tree of G and w(T' ) = w(T) − w(e' ) + w(e), but e is a least-weight edge crossing (S, V \\ S). Thus w(e) ≤ w(e' ), so w(T' ) ≤ w(T). Therefore T' is an MST too.\n",
        "\n",
        "Source: https://ocw.mit.edu/courses/electrical-engineering-and-computer-science/6-046j-design-and-analysis-of-algorithms-spring-2015/lecture-notes/MIT6_046JS15_lec12.pdf"
      ]
    },
    {
      "cell_type": "markdown",
      "metadata": {
        "id": "Qi9bWgNvaAlJ"
      },
      "source": [
        "**2. Prove that Greedy algorithm applied on Activities Selection will bring the best result**\n",
        "\n",
        "Suppose, we have adjusted some activities in the given time slot and claiming that this solution is the optimal solution and the element first to be finished is not in this solution.\n",
        "\n",
        "Now we can replace the first activity in the slot with the element with first finish time without any consequences. As we are only concerned with the number of activities and by replacing the activity, the number of activities will be the same.\n",
        "\n",
        "This is even going to give us some free time in the slot which can be used to further optimize the problem. So, we need the element of least finish time in our optimal solution and thus we just theoretically verified that making a greedy choice will lead us to the optimal solution.\n",
        "\n",
        "Source: https://www.codesdope.com/course/algorithms-activity-selection/\n"
      ]
    },
    {
      "cell_type": "markdown",
      "metadata": {
        "id": "7labakx9dQHu"
      },
      "source": [
        "**=> Cần lưu ý trả lời theo ý mình, không sao chép toàn bộ tài liệu.**"
      ]
    },
    {
      "cell_type": "markdown",
      "metadata": {
        "id": "N8d37HqzLE9N"
      },
      "source": [
        "# **Nhóm 7**"
      ]
    },
    {
      "cell_type": "markdown",
      "metadata": {
        "id": "Meunr-biNWPQ"
      },
      "source": [
        "**1. Chứng minh bài toán tìm cây khung nhỏ nhất sử dụng thuật toán Prim có đặc điểm nhận dạng của thuật toán tham lam.**\n",
        " > Khi tìm cây khung nhỏ nhất, tại mỗi đỉnh ta luôn có được giá trị của nó tới các đỉnh kể. Khi đó ta cập nhật giá trị nhỏ nhất tại mỗi đỉnh nếu giá trị mới nhỏ hơn giá trị tìm được trước đó. Khi đi theo các đỉnh có giá trị tối ưu, ta sẽ duyệt được tất cả các giá trị tốt nhất để tạo thành cây khung. \n",
        "  \n",
        "  Suy ra:\n",
        "  - Bài toán có tính tham lam: ta không cần xem lại các giá trị đã chọn vì chỉ khi gặp giá trị tốt hơn ta mới cập nhât các đỉnh.\n",
        "  - Vì có chu trình nên phương án tối ưu hiện tại sẽ dẫn đến phương án tối ưu tốt nhất, ta sẽ không bỏ lỡ bất kì phương án nào tốt hơn khi đi theo phương án tốt nhất => Có cấu trúc con tối ưu\n"
      ]
    },
    {
      "cell_type": "markdown",
      "metadata": {
        "id": "BKB2NxOTbV_0"
      },
      "source": [
        "**=> Trả lời tốt, làm rõ được nội dung.**"
      ]
    },
    {
      "cell_type": "markdown",
      "metadata": {
        "id": "4zPSiZe2bMx-"
      },
      "source": [
        "**2. Chứng minh thuật toán tham lam áp dụng cho activity selection sẽ ra kết quả tối ưu (the correctness of greedy algorithms)**\n",
        "\n",
        "> Khi sắp xếp các công việc theo thời gian kết thúc tăng dần, các công việc mà ta có thể lựa chọn được là các công việc có thời gian bắt đầu lớn hơn thời gian kết thúc của công việc trước đó => đó là công việc tốt nhất lựa chọn và có thời gian kết thúc ngắn hơn các công việc sau, từ đó ta có thể chọn thêm các công việc khác, nên đó là lựa chọn tối ưu của bài toán con. Việc sắp xếp công việc theo thời gian kết thúc tăng dần giúp ta chọn được nhiều công việc nhất có thể  => không cần xem lại công việc đã chọn."
      ]
    },
    {
      "cell_type": "markdown",
      "metadata": {
        "id": "NBMXDCxWhRGl"
      },
      "source": [
        "**=> Trả lời tốt.**"
      ]
    },
    {
      "cell_type": "markdown",
      "metadata": {
        "id": "HbovCu9eLoc-"
      },
      "source": [
        "# **Nhóm 8**"
      ]
    },
    {
      "cell_type": "markdown",
      "metadata": {
        "id": "3q7jGvMkdcoy"
      },
      "source": [
        "**1. Chứng minh bài toán tìm cây khung nhỏ nhất sử dụng thuật toán Prim có đặc điểm nhận dạng của thuật toán tham lam.**\n",
        "\n",
        "- Có đặc tính tham lam: Chọn giải pháp tốt nhất hiện tại, không xem xét lại lựa chon của mình.\n",
        "\n",
        "- Có cấu trúc con tối ưu: Lời giải tối ưu của các bài toán con sẽ dẫn đến lời giải tối ưu của cả bài toán.\n",
        "\n"
      ]
    },
    {
      "cell_type": "markdown",
      "metadata": {
        "id": "yqbe1CHVbeSC"
      },
      "source": [
        "**=> Chưa làm rõ được về thuật toán Prim, chỉ nói chung về thuật toán tham lam.**"
      ]
    },
    {
      "cell_type": "markdown",
      "metadata": {
        "id": "FL8G8C4mbaaX"
      },
      "source": [
        "**2. Chứng minh thuật toán tham lam áp dụng cho activity selection sẽ ra kết quả tối ưu (the correctness of greedy algorithms)**\n",
        "\n",
        "Tại một số thời điểm, thuật toán tham lam đã chọn một cạnh không có trọng số tối thiểu, nhưng nó luôn chọn các cạnh có trọng số nhỏ nhất. Do đó nó sẽ luôn cho kết quả chính xác. Cây kéo dài tối thiểu của V đỉnh phải có ít nhất V-1 cạnh và không được chứa chu trình. Nên là thuật toán sẽ không chọn thêm cạnh nào nữa."
      ]
    },
    {
      "cell_type": "markdown",
      "metadata": {
        "id": "lXcwE0_-fpoe"
      },
      "source": [
        "**=> Trả lời sai nội dung yêu cầu.**"
      ]
    },
    {
      "cell_type": "markdown",
      "metadata": {
        "id": "HqKUHf8TLw4V"
      },
      "source": [
        "# **Nhóm 9**"
      ]
    },
    {
      "cell_type": "markdown",
      "metadata": {
        "id": "WzfkmfApMEpz"
      },
      "source": [
        "**1. Chứng minh bài toán tìm cây khung nhỏ nhất sử dụng thuật toán Prim có đặc điểm nhận dạng của thuật toán tham lam.**\n",
        "* Cấu trúc con tối ưu: Ta lần lượt thêm đỉnh u có giá trị key nhỏ nhất chưa có trong mstSet vào mstSet. Cho tới khi mstSet có đầy đủ các đỉnh thì ta được cây khung nhỏ nhất. \n",
        "* Có đặc tính tham lam: Sau khi ta thêm một đỉnh vào mstSet thì ta sẽ không xét tới nó nữa tại các lần duyệt cạnh sau. \n"
      ]
    },
    {
      "cell_type": "markdown",
      "metadata": {
        "id": "Je5L58YkcCWt"
      },
      "source": [
        "**=> Phần cấu trúc con tối ưu chưa nói được mỗi lần thêm đỉnh vào mstSet đều được cây khung nhỏ nhất của các đỉnh chứa trong mstSet.**"
      ]
    },
    {
      "cell_type": "markdown",
      "metadata": {
        "id": "tjIpF7QDbssm"
      },
      "source": [
        "**2. Chứng minh thuật toán tham lam áp dụng cho activity selection sẽ ra kết quả tối ưu (the correctness of greedy algorithms)** \n",
        "\n",
        "Gọi O={Tập hợp các khoảng tối ưu theo tham lam} \n",
        "\n",
        "Gọi A={Tập các khoảng tối ưu theo các phương pháp khác } \n",
        "* Xét {i1,..,ik} tập các khoảng tối ưu theo A, {j1,...,jm} tập các khoảng tối ưu theo O \n",
        "* Nếu A tối ưu. Xét r < k thì ta luôn có f(ir)<=f(jr) (dễ dàng chứng minh bằng quy nạp). Vì vậy khẳng định rằng f(ir)>f(jr) là điều không thể. Điều này chứng minh rằng thời gian kết thúc tại cùng 1 hoạt động thứ r của O luôn tối ưu hơn or bằng với các phương pháp. \n",
        "* Nếu A không tối ưu, xét r=k thì f(ik)<=f(jk). Có thể có khoảng jk+1 trong O. Từ đó có thể m>k\n"
      ]
    },
    {
      "cell_type": "markdown",
      "metadata": {
        "id": "6lsD-t4agd0Q"
      },
      "source": [
        "**=> Có đọc tài liệu tham khảo của nhóm, tuy nhiên chưa nắm rõ ý.**"
      ]
    },
    {
      "cell_type": "markdown",
      "metadata": {
        "id": "FfdtdK55MahR"
      },
      "source": [
        "# **Nhóm 11**"
      ]
    },
    {
      "cell_type": "markdown",
      "metadata": {
        "id": "hTAHskQeMfgl"
      },
      "source": [
        "**1. Chứng minh bài toán tìm cây khung nhỏ nhất sử dụng thuật toán Prim có đặc điểm nhận  dạng của thuật toán tham lam.**\n",
        "* Cấu trúc con tối ưu: lần lượt thêm đỉnh u có giá trị key nhỏ nhất sao cho  tìm thấy cây khung nhỏ nhất. \n",
        "* Tính tham lam: chọn cạnh ngắn nhất(tốt nhất ) và không chọn lại cạnh đã  duyệt qua. \n",
        "  \n",
        "-> Bài toán tìm cây khung nhỏ nhất sử dụng thuật toán Prim có đặc điểm  nhận dạng thuật toán tham lam. \n",
        "\n",
        "\n"
      ]
    },
    {
      "cell_type": "markdown",
      "metadata": {
        "id": "byD4DPQ0c0U0"
      },
      "source": [
        "**=> Phần cấu trúc con tối ưu chưa nói được mỗi lần thêm đỉnh vào mstSet đều được cây khung nhỏ nhất của các đỉnh chứa trong mstSet.**"
      ]
    },
    {
      "cell_type": "markdown",
      "metadata": {
        "id": "gfRIp3webyUP"
      },
      "source": [
        "**2. Chứng minh thuật toán tham lam áp dụng cho activity selection sẽ ra kết quả tối ưu (the  correctness of greedy algorithms)**\n",
        "* Sắp xếp lại các hoạt động theo thời gian hoàn thành. \n",
        "* Nếu các hoạt động không trùng thời gian với nhau->chọn bình thường. \n",
        "* Nếu trùng thời gian ta sẽ chọn hoạt động có thời gian ngắn hơn(cần ít thời gian hoàn thành hơn). ->Tối ưu."
      ]
    },
    {
      "cell_type": "markdown",
      "metadata": {
        "id": "HZY2tOfRhUAW"
      },
      "source": [
        "**=> Trả lời tốt.**"
      ]
    },
    {
      "cell_type": "markdown",
      "metadata": {
        "id": "1eAsOk19M2Kp"
      },
      "source": [
        "# **Nhóm 12**"
      ]
    },
    {
      "cell_type": "markdown",
      "metadata": {
        "id": "sdFvlD5I4Hun"
      },
      "source": [
        "**Câu 1:**\n",
        "Chứng minh bài toán tìm cây khung nhỏ nhất sử dụng thuật toán Prim có đặc điểm nhận dạng của thuật toán tham lam.\n",
        "* có cấu trúc con tối ưu: Trong thuật toán Prim mỗi khi ta thêm một đỉnh mới vào mstSet thì ta luôn được một cây khung nhỏ nhất của các đỉnh đó. Sau khi thêm tất cả các đỉnh vào mstSet thì thuật toán dừng lại.\n",
        "* có đặc tính tham lam: Trong thuật toán ta sẽ không so sánh lại với các cạnh đã chọn.\n",
        "\n",
        "\n",
        " "
      ]
    },
    {
      "cell_type": "markdown",
      "metadata": {
        "id": "Dt9uWTj9c58t"
      },
      "source": [
        "**=> Trả lời tốt, làm rõ được nội dung.**"
      ]
    },
    {
      "cell_type": "markdown",
      "metadata": {
        "id": "cCvtu0jEb3qo"
      },
      "source": [
        "**Câu 2:**\n",
        "Chứng minh thuật toán tham lam áp dụng cho activity selection sẽ ra kết quả tối ưu (the correctness of greedy algorithms)\n",
        "* Trước khi chạy thuật toán tham lam ta phải sắp xếp các hoạt động theo thứ tự tăng dân của thời gian kết thúc\n",
        "* Khi chạy thuật thuật toán tham lam cho bài toán này ta sẽ có 2 trường hợp xảy ra:\n",
        "    - TH1: các hoạt động không trùng thời gian với nhau: ta chỉ cận chọn hoạt động đó\n",
        "    - TH2: Một số hoạt động trùng thời gian với nhau: khi đó ta chỉ có thể chọn 1 trong các hoạt động trùng nhau đó. vì vậy hoạt động có thời gian kết thúc nhỏ nhất sẽ là lựa chọn tối ưu toàn cục"
      ]
    },
    {
      "cell_type": "markdown",
      "metadata": {
        "id": "QaVIZWf4hW9O"
      },
      "source": [
        "**=> Trả lời tốt.**"
      ]
    },
    {
      "cell_type": "markdown",
      "metadata": {
        "id": "CYo8aE-cNcMz"
      },
      "source": [
        "# **ĐÁP ÁN NHÓM ĐƯA RA**"
      ]
    },
    {
      "cell_type": "markdown",
      "metadata": {
        "id": "Gmo0ZbwbNiAP"
      },
      "source": [
        "**Câu 1**:"
      ]
    },
    {
      "cell_type": "markdown",
      "metadata": {
        "id": "ve-OZJ-WOpm9"
      },
      "source": [
        "- ***Có đặc tính tham lam***: mỗi bước đều lựa chọn kết quả tối ưu nhất, kết quả tương lai không ảnh hưởng đến lựa chọn hiện tại.\n",
        "\n",
        "  Ta thấy được rằng ở mỗi vòng lặp, thuật toán Prim sẽ chọn đỉnh có cạnh nối có trọng số ***nhỏ nhất*** đối với 1 trong các đỉnh thuộc tập đỉnh đã xét và khi đã xét qua đỉnh nào đó thì không xét đỉnh đó trong tương lai nữa.\n",
        "\n",
        "- ***Có cấu trúc con tối ưu***: xét cây khung nhỏ nhất tạo ra bởi thuật toán Prim, ta thấy được rằng, nếu bỏ bất kỳ đỉnh nào trong tập cây khung nhỏ nhất ta cũng vẫn thu được cây khung nhỏ nhất."
      ]
    },
    {
      "cell_type": "markdown",
      "metadata": {
        "id": "MgGRNzcbNktl"
      },
      "source": [
        "**Câu 2**:"
      ]
    },
    {
      "cell_type": "markdown",
      "metadata": {
        "id": "LTGy49bZRiOv"
      },
      "source": [
        "Gọi O là tập kết quả tối ưu. A là tập kết quả sau khi sử dụng Greedy. Chúng ta sẽ chứng minh độ dài tập A = độ dài tập O (hay A cũng là 1 kết quả tối ưu). (O đã sắp xếp theo tương thích về thời gian)\n",
        "\n",
        "Cho $i_{1},...i_{k}$ là tập các hoạt động đã được thêm vào A => độ dài của A = k. Tương tự, ta có $j_{1},...j_{m}$ thuộc O => độ dài của O = m. Điều phải chứng minh: k = m.\n",
        "\n",
        "Giả sử nếu A không phải tập tối ưu, thì số hoạt động trong O phải lớn hơn A hay m > k. Vì m > k => có 1 hoạt động $j_{k+1}$ thuộc O sau khi xét xong hoạt động $j_{k}$ hay xét xong hoạt động $i_{k}$, sau khi đã bỏ đi những hoạt động có thời gian không tương thích với $j_{k}$ trong tập input ta vẫn còn $j_{k+1}$, nhưng greedy chỉ dừng cho đến khi input rỗng => vô lý => A tối ưu => greedy đúng."
      ]
    }
  ]
}